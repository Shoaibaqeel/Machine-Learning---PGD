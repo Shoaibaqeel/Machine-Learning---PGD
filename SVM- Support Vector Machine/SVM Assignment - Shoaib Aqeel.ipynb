{
 "cells": [
  {
   "cell_type": "markdown",
   "id": "f4ce8ad5-e7d0-4287-8362-ac8a6748d6a7",
   "metadata": {},
   "source": [
    "# Assignment - Machine Learning PGD - Support Vector Machine (SVM)\n",
    "### Pulsar Data from Kaggle"
   ]
  },
  {
   "cell_type": "code",
   "execution_count": 2,
   "id": "0e5cd276-7b18-4aba-a0df-40e9fbf7d3f1",
   "metadata": {},
   "outputs": [],
   "source": [
    "# Importing the basic libraries\n",
    "import numpy as np\n",
    "import matplotlib.pyplot as plt\n",
    "import pandas as pd\n",
    "import warnings\n",
    "warnings.filterwarnings('ignore')"
   ]
  },
  {
   "cell_type": "code",
   "execution_count": 6,
   "id": "b6fbf77d-3403-4397-9320-7f5656dbbe8b",
   "metadata": {},
   "outputs": [],
   "source": [
    "# As we have two different files of Train data and test data therefore two diff data sets have been loaded\n",
    "df_test = pd.read_csv(\"pulsar_data_test.csv\")\n",
    "df_train = pd.read_csv(\"pulsar_data_train.csv\")"
   ]
  },
  {
   "cell_type": "code",
   "execution_count": 12,
   "id": "c5fb2ed1-c432-4a00-9b0c-7bc53a03a22a",
   "metadata": {},
   "outputs": [
    {
     "name": "stdout",
     "output_type": "stream",
     "text": [
      "<class 'pandas.core.frame.DataFrame'>\n",
      "RangeIndex: 5370 entries, 0 to 5369\n",
      "Data columns (total 9 columns):\n",
      " #   Column                                         Non-Null Count  Dtype  \n",
      "---  ------                                         --------------  -----  \n",
      " 0    Mean of the integrated profile                5370 non-null   float64\n",
      " 1    Standard deviation of the integrated profile  5370 non-null   float64\n",
      " 2    Excess kurtosis of the integrated profile     4603 non-null   float64\n",
      " 3    Skewness of the integrated profile            5370 non-null   float64\n",
      " 4    Mean of the DM-SNR curve                      5370 non-null   float64\n",
      " 5    Standard deviation of the DM-SNR curve        4846 non-null   float64\n",
      " 6    Excess kurtosis of the DM-SNR curve           5370 non-null   float64\n",
      " 7    Skewness of the DM-SNR curve                  5126 non-null   float64\n",
      " 8   target_class                                   0 non-null      float64\n",
      "dtypes: float64(9)\n",
      "memory usage: 377.7 KB\n"
     ]
    },
    {
     "data": {
      "text/plain": [
       "(5370, 9)"
      ]
     },
     "execution_count": 12,
     "metadata": {},
     "output_type": "execute_result"
    }
   ],
   "source": [
    "df_test.info()\n",
    "df_test.shape"
   ]
  },
  {
   "cell_type": "code",
   "execution_count": 14,
   "id": "78b07302-96ca-4309-837b-2f1b28189c9a",
   "metadata": {},
   "outputs": [
    {
     "name": "stdout",
     "output_type": "stream",
     "text": [
      "<class 'pandas.core.frame.DataFrame'>\n",
      "RangeIndex: 12528 entries, 0 to 12527\n",
      "Data columns (total 9 columns):\n",
      " #   Column                                         Non-Null Count  Dtype  \n",
      "---  ------                                         --------------  -----  \n",
      " 0    Mean of the integrated profile                12528 non-null  float64\n",
      " 1    Standard deviation of the integrated profile  12528 non-null  float64\n",
      " 2    Excess kurtosis of the integrated profile     10793 non-null  float64\n",
      " 3    Skewness of the integrated profile            12528 non-null  float64\n",
      " 4    Mean of the DM-SNR curve                      12528 non-null  float64\n",
      " 5    Standard deviation of the DM-SNR curve        11350 non-null  float64\n",
      " 6    Excess kurtosis of the DM-SNR curve           12528 non-null  float64\n",
      " 7    Skewness of the DM-SNR curve                  11903 non-null  float64\n",
      " 8   target_class                                   12528 non-null  float64\n",
      "dtypes: float64(9)\n",
      "memory usage: 881.0 KB\n"
     ]
    },
    {
     "data": {
      "text/plain": [
       "(12528, 9)"
      ]
     },
     "execution_count": 14,
     "metadata": {},
     "output_type": "execute_result"
    }
   ],
   "source": [
    "df_train.info()\n",
    "df_train.shape"
   ]
  },
  {
   "cell_type": "code",
   "execution_count": 16,
   "id": "13675b8b-0e71-4905-ab04-e20d2689c958",
   "metadata": {},
   "outputs": [],
   "source": [
    "# In order to fill the null values we need to concanate two files as one\n",
    "df=pd.concat([df_train,df_test],ignore_index=True)"
   ]
  },
  {
   "cell_type": "code",
   "execution_count": 18,
   "id": "55cab2e9-c649-45df-9d82-d54e4d4a785f",
   "metadata": {},
   "outputs": [
    {
     "name": "stdout",
     "output_type": "stream",
     "text": [
      "<class 'pandas.core.frame.DataFrame'>\n",
      "RangeIndex: 17898 entries, 0 to 17897\n",
      "Data columns (total 9 columns):\n",
      " #   Column                                         Non-Null Count  Dtype  \n",
      "---  ------                                         --------------  -----  \n",
      " 0    Mean of the integrated profile                17898 non-null  float64\n",
      " 1    Standard deviation of the integrated profile  17898 non-null  float64\n",
      " 2    Excess kurtosis of the integrated profile     15396 non-null  float64\n",
      " 3    Skewness of the integrated profile            17898 non-null  float64\n",
      " 4    Mean of the DM-SNR curve                      17898 non-null  float64\n",
      " 5    Standard deviation of the DM-SNR curve        16196 non-null  float64\n",
      " 6    Excess kurtosis of the DM-SNR curve           17898 non-null  float64\n",
      " 7    Skewness of the DM-SNR curve                  17029 non-null  float64\n",
      " 8   target_class                                   12528 non-null  float64\n",
      "dtypes: float64(9)\n",
      "memory usage: 1.2 MB\n"
     ]
    },
    {
     "data": {
      "text/plain": [
       "(17898, 9)"
      ]
     },
     "execution_count": 18,
     "metadata": {},
     "output_type": "execute_result"
    }
   ],
   "source": [
    "df.info()\n",
    "df.shape"
   ]
  },
  {
   "cell_type": "code",
   "execution_count": 20,
   "id": "e01d635d-49dc-4da8-91ad-de4940e7ff5e",
   "metadata": {},
   "outputs": [
    {
     "data": {
      "text/plain": [
       "Index(['Mean of the integrated profile',\n",
       "       'Standard deviation of the integrated profile',\n",
       "       'Excess kurtosis of the integrated profile',\n",
       "       'Skewness of the integrated profile', 'Mean of the DM-SNR curve',\n",
       "       'Standard deviation of the DM-SNR curve',\n",
       "       'Excess kurtosis of the DM-SNR curve', 'Skewness of the DM-SNR curve',\n",
       "       'target_class'],\n",
       "      dtype='object')"
      ]
     },
     "execution_count": 20,
     "metadata": {},
     "output_type": "execute_result"
    }
   ],
   "source": [
    "# remove leading spaces from column names\n",
    "df.columns=df.columns.str.strip()\n",
    "df.columns"
   ]
  },
  {
   "cell_type": "code",
   "execution_count": 38,
   "id": "abba5320-d36f-47a7-a4f6-21b5dfe2f1a7",
   "metadata": {},
   "outputs": [
    {
     "data": {
      "text/plain": [
       "Index(['Mean_IP', 'SD_IP', 'Kurtosis_IP', 'Skewness_IP', 'Mean_DM_SNR',\n",
       "       'SD_DM_SNR', 'Kurtosis_DM-SNR', 'Skewness_DM-SNR', 'Target_class'],\n",
       "      dtype='object')"
      ]
     },
     "execution_count": 38,
     "metadata": {},
     "output_type": "execute_result"
    }
   ],
   "source": [
    "# rename column names\n",
    "\n",
    "df.columns=['Mean_IP','SD_IP','Kurtosis_IP','Skewness_IP','Mean_DM_SNR','SD_DM_SNR','Kurtosis_DM-SNR','Skewness_DM-SNR','Target_class']\n",
    "df.columns"
   ]
  },
  {
   "cell_type": "code",
   "execution_count": 40,
   "id": "d647f9e8-96be-43a0-abf3-aca70fa466e7",
   "metadata": {},
   "outputs": [
    {
     "name": "stdout",
     "output_type": "stream",
     "text": [
      "<class 'pandas.core.frame.DataFrame'>\n",
      "RangeIndex: 17898 entries, 0 to 17897\n",
      "Data columns (total 9 columns):\n",
      " #   Column           Non-Null Count  Dtype  \n",
      "---  ------           --------------  -----  \n",
      " 0   Mean_IP          17898 non-null  float64\n",
      " 1   SD_IP            17898 non-null  float64\n",
      " 2   Kurtosis_IP      15396 non-null  float64\n",
      " 3   Skewness_IP      17898 non-null  float64\n",
      " 4   Mean_DM_SNR      17898 non-null  float64\n",
      " 5   SD_DM_SNR        16196 non-null  float64\n",
      " 6   Kurtosis_DM-SNR  17898 non-null  float64\n",
      " 7   Skewness_DM-SNR  17029 non-null  float64\n",
      " 8   Target_class     12528 non-null  float64\n",
      "dtypes: float64(9)\n",
      "memory usage: 1.2 MB\n"
     ]
    }
   ],
   "source": [
    "df.info()"
   ]
  },
  {
   "cell_type": "code",
   "execution_count": 42,
   "id": "61494a4f-0c09-46df-90c1-cf710ed8626f",
   "metadata": {},
   "outputs": [
    {
     "data": {
      "image/png": "[encoded data removed]",
      "text/plain": [
       "<Figure size 1000x600 with 1 Axes>"
      ]
     },
     "metadata": {},
     "output_type": "display_data"
    }
   ],
   "source": [
    "# Calculate the number of missing values per column\n",
    "missing_values = df.isnull().sum()\n",
    "\n",
    "# Filter out columns with no missing values\n",
    "missing_values = missing_values[missing_values > 0]\n",
    "\n",
    "# Plot the missing values as a bar chart\n",
    "missing_values.sort_values().plot(kind='barh', figsize=(10, 6))\n",
    "plt.title(\"Number of Missing Values per Column\")\n",
    "plt.xlabel(\"Number of Missing Values\")\n",
    "plt.ylabel(\"Columns\")\n",
    "plt.show()"
   ]
  },
  {
   "cell_type": "code",
   "execution_count": 44,
   "id": "571cbb42-c555-4740-95ee-fb62c937cc09",
   "metadata": {},
   "outputs": [
    {
     "data": {
      "image/png": "[encoded data removed]",
      "text/plain": [
       "<Figure size 640x480 with 1 Axes>"
      ]
     },
     "metadata": {},
     "output_type": "display_data"
    }
   ],
   "source": [
    "import seaborn as sns\n",
    "import matplotlib.pyplot as plt\n",
    "\n",
    "sns.histplot(df['Skewness_DM-SNR'], kde=True)\n",
    "plt.show()"
   ]
  },
  {
   "cell_type": "code",
   "execution_count": 46,
   "id": "580775fe-b4b3-49e1-8ad7-8f41d6a6d488",
   "metadata": {},
   "outputs": [
    {
     "data": {
      "image/png": "[encoded data removed]",
      "text/plain": [
       "<Figure size 640x480 with 1 Axes>"
      ]
     },
     "metadata": {},
     "output_type": "display_data"
    }
   ],
   "source": [
    "sns.histplot(df['Target_class'], kde=True)\n",
    "plt.show()"
   ]
  },
  {
   "cell_type": "code",
   "execution_count": 48,
   "id": "70f36039-123f-4e79-b101-4c6321e82072",
   "metadata": {},
   "outputs": [
    {
     "data": {
      "image/png": "[encoded data removed]",
      "text/plain": [
       "<Figure size 640x480 with 1 Axes>"
      ]
     },
     "metadata": {},
     "output_type": "display_data"
    }
   ],
   "source": [
    "\n",
    "sns.histplot(df['Kurtosis_IP'], kde=True)\n",
    "plt.show()"
   ]
  },
  {
   "cell_type": "code",
   "execution_count": 52,
   "id": "4559fc26-472e-4577-8a28-974d072f8ded",
   "metadata": {},
   "outputs": [
    {
     "data": {
      "image/png": "[encoded data removed]",
      "text/plain": [
       "<Figure size 640x480 with 1 Axes>"
      ]
     },
     "metadata": {},
     "output_type": "display_data"
    }
   ],
   "source": [
    "sns.histplot(df['SD_DM_SNR'], kde=True)\n",
    "plt.show()"
   ]
  },
  {
   "cell_type": "code",
   "execution_count": null,
   "id": "20480873-4869-4b38-bd99-1f51633d6628",
   "metadata": {},
   "outputs": [],
   "source": []
  },
  {
   "cell_type": "markdown",
   "id": "38e9be90-94b1-46a3-ae01-af01166b72d1",
   "metadata": {},
   "source": [
    "# Filling Missing Values"
   ]
  },
  {
   "cell_type": "markdown",
   "id": "ad46e292-5fca-4846-83cc-cfaa6b9247dd",
   "metadata": {},
   "source": [
    "#### 1 - Target_Class"
   ]
  },
  {
   "cell_type": "code",
   "execution_count": 78,
   "id": "a500e015-1ac4-4d3b-b07e-95dd32b34abf",
   "metadata": {},
   "outputs": [
    {
     "data": {
      "text/plain": [
       "array([ 0.,  1., nan])"
      ]
     },
     "execution_count": 78,
     "metadata": {},
     "output_type": "execute_result"
    }
   ],
   "source": [
    "df.Target_class.unique()"
   ]
  },
  {
   "cell_type": "code",
   "execution_count": 80,
   "id": "878ea561-0af3-4a7f-8312-3576183f1e5b",
   "metadata": {},
   "outputs": [
    {
     "data": {
      "text/plain": [
       "Target_class\n",
       "0.0    11375\n",
       "1.0     1153\n",
       "Name: count, dtype: int64"
      ]
     },
     "execution_count": 80,
     "metadata": {},
     "output_type": "execute_result"
    }
   ],
   "source": [
    "df.Target_class.value_counts()"
   ]
  },
  {
   "cell_type": "code",
   "execution_count": 106,
   "id": "ae7245c6-8bbe-49ba-bace-683759981cdb",
   "metadata": {},
   "outputs": [],
   "source": [
    "# After seeing the visual of the plot of Traget Class it is suggested that mode is the best to be use to fill in the missing values\n",
    "df['Target_class'] = df['Target_class'].fillna(df['Target_class'].mode()[0])"
   ]
  },
  {
   "cell_type": "code",
   "execution_count": 108,
   "id": "5974c15e-f8c7-4964-9035-e99e6620c99f",
   "metadata": {},
   "outputs": [
    {
     "data": {
      "text/plain": [
       "array([0., 1.])"
      ]
     },
     "execution_count": 108,
     "metadata": {},
     "output_type": "execute_result"
    }
   ],
   "source": [
    "df.Target_class.unique()"
   ]
  },
  {
   "cell_type": "code",
   "execution_count": 110,
   "id": "595c4d5e-fa60-4bd7-b87b-83022f6a1c13",
   "metadata": {},
   "outputs": [
    {
     "data": {
      "text/plain": [
       "Target_class\n",
       "0.0    16745\n",
       "1.0     1153\n",
       "Name: count, dtype: int64"
      ]
     },
     "execution_count": 110,
     "metadata": {},
     "output_type": "execute_result"
    }
   ],
   "source": [
    "df.Target_class.value_counts()"
   ]
  },
  {
   "cell_type": "markdown",
   "id": "fe52fa40-484e-4dc2-a025-4e35f0d607cf",
   "metadata": {},
   "source": [
    "#### 2-'Skewness_DM-SNR'"
   ]
  },
  {
   "cell_type": "code",
   "execution_count": 117,
   "id": "5f46a9b1-5a21-4523-98b5-0426ea4e48b0",
   "metadata": {},
   "outputs": [
    {
     "name": "stdout",
     "output_type": "stream",
     "text": [
      "<class 'pandas.core.series.Series'>\n",
      "RangeIndex: 17898 entries, 0 to 17897\n",
      "Series name: Skewness_DM-SNR\n",
      "Non-Null Count  Dtype  \n",
      "--------------  -----  \n",
      "17029 non-null  float64\n",
      "dtypes: float64(1)\n",
      "memory usage: 140.0 KB\n"
     ]
    }
   ],
   "source": [
    "df['Skewness_DM-SNR'].info()"
   ]
  },
  {
   "cell_type": "code",
   "execution_count": 126,
   "id": "5b245718-0dc8-4af3-99c1-653518a3c7a1",
   "metadata": {},
   "outputs": [],
   "source": [
    "# After seeing the visual of the skewed plot of 'Skewness_DM-SNR' it is suggested that median is the best to be use to fill in the missing values\n",
    "df['Skewness_DM-SNR'] = df['Skewness_DM-SNR'].fillna(df['Skewness_DM-SNR'].median())"
   ]
  },
  {
   "cell_type": "code",
   "execution_count": 121,
   "id": "595c490b-090a-4151-9dc0-d95ab77dc02a",
   "metadata": {},
   "outputs": [
    {
     "name": "stdout",
     "output_type": "stream",
     "text": [
      "<class 'pandas.core.series.Series'>\n",
      "RangeIndex: 17898 entries, 0 to 17897\n",
      "Series name: Skewness_DM-SNR\n",
      "Non-Null Count  Dtype  \n",
      "--------------  -----  \n",
      "17898 non-null  float64\n",
      "dtypes: float64(1)\n",
      "memory usage: 140.0 KB\n"
     ]
    }
   ],
   "source": [
    "df['Skewness_DM-SNR'].info()"
   ]
  },
  {
   "cell_type": "markdown",
   "id": "ff04e1e0-4b7e-49e3-af2e-0da0cb922c9b",
   "metadata": {},
   "source": [
    "#### 3- Kurtosis_IP"
   ]
  },
  {
   "cell_type": "code",
   "execution_count": 124,
   "id": "37fdf2f6-6714-42bd-bc8b-d3e1a2f2e638",
   "metadata": {},
   "outputs": [
    {
     "name": "stdout",
     "output_type": "stream",
     "text": [
      "<class 'pandas.core.series.Series'>\n",
      "RangeIndex: 17898 entries, 0 to 17897\n",
      "Series name: Kurtosis_IP\n",
      "Non-Null Count  Dtype  \n",
      "--------------  -----  \n",
      "15396 non-null  float64\n",
      "dtypes: float64(1)\n",
      "memory usage: 140.0 KB\n"
     ]
    }
   ],
   "source": [
    "df['Kurtosis_IP'].info()"
   ]
  },
  {
   "cell_type": "code",
   "execution_count": 128,
   "id": "311f4ec3-e1ec-40b7-963c-180ad5bc5952",
   "metadata": {},
   "outputs": [],
   "source": [
    "# After seeing the visual of the skewed plot of 'Kurtosis_IP' it is suggested that median is the best to be use to fill in the missing values\n",
    "df['Kurtosis_IP'] = df['Kurtosis_IP'].fillna(df['Kurtosis_IP'].median())"
   ]
  },
  {
   "cell_type": "code",
   "execution_count": 130,
   "id": "e806f0f4-9f83-4def-8330-8a6bc62c7d19",
   "metadata": {},
   "outputs": [
    {
     "name": "stdout",
     "output_type": "stream",
     "text": [
      "<class 'pandas.core.series.Series'>\n",
      "RangeIndex: 17898 entries, 0 to 17897\n",
      "Series name: Kurtosis_IP\n",
      "Non-Null Count  Dtype  \n",
      "--------------  -----  \n",
      "17898 non-null  float64\n",
      "dtypes: float64(1)\n",
      "memory usage: 140.0 KB\n"
     ]
    }
   ],
   "source": [
    "df['Kurtosis_IP'].info()"
   ]
  },
  {
   "cell_type": "markdown",
   "id": "573312eb-6218-4fab-94d7-c947ef206efb",
   "metadata": {},
   "source": [
    "#### 4-SD_DM_SNR  "
   ]
  },
  {
   "cell_type": "code",
   "execution_count": 133,
   "id": "287221b1-bc0f-4222-845c-da7076caedb4",
   "metadata": {},
   "outputs": [
    {
     "name": "stdout",
     "output_type": "stream",
     "text": [
      "<class 'pandas.core.series.Series'>\n",
      "RangeIndex: 17898 entries, 0 to 17897\n",
      "Series name: SD_DM_SNR\n",
      "Non-Null Count  Dtype  \n",
      "--------------  -----  \n",
      "16196 non-null  float64\n",
      "dtypes: float64(1)\n",
      "memory usage: 140.0 KB\n"
     ]
    }
   ],
   "source": [
    "df['SD_DM_SNR'].info()"
   ]
  },
  {
   "cell_type": "code",
   "execution_count": 135,
   "id": "be1a8a32-3b9a-442d-8675-d49b644d3386",
   "metadata": {},
   "outputs": [],
   "source": [
    "# After seeing the visual of the skewed plot of 'SD_DM_SNR' it is suggested that median is the best to be use to fill in the missing values\n",
    "df['SD_DM_SNR'] = df['SD_DM_SNR'].fillna(df['SD_DM_SNR'].median())"
   ]
  },
  {
   "cell_type": "code",
   "execution_count": 137,
   "id": "3e49949e-3a8a-4124-b035-cfd6df5dd0a0",
   "metadata": {},
   "outputs": [
    {
     "name": "stdout",
     "output_type": "stream",
     "text": [
      "<class 'pandas.core.series.Series'>\n",
      "RangeIndex: 17898 entries, 0 to 17897\n",
      "Series name: SD_DM_SNR\n",
      "Non-Null Count  Dtype  \n",
      "--------------  -----  \n",
      "17898 non-null  float64\n",
      "dtypes: float64(1)\n",
      "memory usage: 140.0 KB\n"
     ]
    }
   ],
   "source": [
    "df['SD_DM_SNR'].info()"
   ]
  },
  {
   "cell_type": "code",
   "execution_count": 139,
   "id": "062fff40-4857-4a82-8433-e6a30daa63fc",
   "metadata": {},
   "outputs": [
    {
     "name": "stdout",
     "output_type": "stream",
     "text": [
      "<class 'pandas.core.frame.DataFrame'>\n",
      "RangeIndex: 17898 entries, 0 to 17897\n",
      "Data columns (total 9 columns):\n",
      " #   Column           Non-Null Count  Dtype  \n",
      "---  ------           --------------  -----  \n",
      " 0   Mean_IP          17898 non-null  float64\n",
      " 1   SD_IP            17898 non-null  float64\n",
      " 2   Kurtosis_IP      17898 non-null  float64\n",
      " 3   Skewness_IP      17898 non-null  float64\n",
      " 4   Mean_DM_SNR      17898 non-null  float64\n",
      " 5   SD_DM_SNR        17898 non-null  float64\n",
      " 6   Kurtosis_DM-SNR  17898 non-null  float64\n",
      " 7   Skewness_DM-SNR  17898 non-null  float64\n",
      " 8   Target_class     17898 non-null  float64\n",
      "dtypes: float64(9)\n",
      "memory usage: 1.2 MB\n"
     ]
    }
   ],
   "source": [
    "df.info()"
   ]
  },
  {
   "cell_type": "code",
   "execution_count": 141,
   "id": "e0ccd4ee-13f7-4b6f-bd44-fa0d36ff45ae",
   "metadata": {},
   "outputs": [
    {
     "data": {
      "text/html": [
       "<div>\n",
       "<style scoped>\n",
       "    .dataframe tbody tr th:only-of-type {\n",
       "        vertical-align: middle;\n",
       "    }\n",
       "\n",
       "    .dataframe tbody tr th {\n",
       "        vertical-align: top;\n",
       "    }\n",
       "\n",
       "    .dataframe thead th {\n",
       "        text-align: right;\n",
       "    }\n",
       "</style>\n",
       "<table border=\"1\" class=\"dataframe\">\n",
       "  <thead>\n",
       "    <tr style=\"text-align: right;\">\n",
       "      <th></th>\n",
       "      <th>Mean_IP</th>\n",
       "      <th>SD_IP</th>\n",
       "      <th>Kurtosis_IP</th>\n",
       "      <th>Skewness_IP</th>\n",
       "      <th>Mean_DM_SNR</th>\n",
       "      <th>SD_DM_SNR</th>\n",
       "      <th>Kurtosis_DM-SNR</th>\n",
       "      <th>Skewness_DM-SNR</th>\n",
       "      <th>Target_class</th>\n",
       "    </tr>\n",
       "  </thead>\n",
       "  <tbody>\n",
       "    <tr>\n",
       "      <th>0</th>\n",
       "      <td>121.156250</td>\n",
       "      <td>48.372971</td>\n",
       "      <td>0.375485</td>\n",
       "      <td>-0.013165</td>\n",
       "      <td>3.168896</td>\n",
       "      <td>18.399367</td>\n",
       "      <td>7.449874</td>\n",
       "      <td>65.159298</td>\n",
       "      <td>0.0</td>\n",
       "    </tr>\n",
       "    <tr>\n",
       "      <th>1</th>\n",
       "      <td>76.968750</td>\n",
       "      <td>36.175557</td>\n",
       "      <td>0.712898</td>\n",
       "      <td>3.388719</td>\n",
       "      <td>2.399666</td>\n",
       "      <td>17.570997</td>\n",
       "      <td>9.414652</td>\n",
       "      <td>102.722975</td>\n",
       "      <td>0.0</td>\n",
       "    </tr>\n",
       "    <tr>\n",
       "      <th>2</th>\n",
       "      <td>130.585938</td>\n",
       "      <td>53.229534</td>\n",
       "      <td>0.133408</td>\n",
       "      <td>-0.297242</td>\n",
       "      <td>2.743311</td>\n",
       "      <td>22.362553</td>\n",
       "      <td>8.508364</td>\n",
       "      <td>74.031324</td>\n",
       "      <td>0.0</td>\n",
       "    </tr>\n",
       "    <tr>\n",
       "      <th>3</th>\n",
       "      <td>156.398438</td>\n",
       "      <td>48.865942</td>\n",
       "      <td>-0.215989</td>\n",
       "      <td>-0.171294</td>\n",
       "      <td>17.471572</td>\n",
       "      <td>18.457026</td>\n",
       "      <td>2.958066</td>\n",
       "      <td>7.197842</td>\n",
       "      <td>0.0</td>\n",
       "    </tr>\n",
       "    <tr>\n",
       "      <th>4</th>\n",
       "      <td>84.804688</td>\n",
       "      <td>36.117659</td>\n",
       "      <td>0.825013</td>\n",
       "      <td>3.274125</td>\n",
       "      <td>2.790134</td>\n",
       "      <td>20.618009</td>\n",
       "      <td>8.405008</td>\n",
       "      <td>76.291128</td>\n",
       "      <td>0.0</td>\n",
       "    </tr>\n",
       "    <tr>\n",
       "      <th>...</th>\n",
       "      <td>...</td>\n",
       "      <td>...</td>\n",
       "      <td>...</td>\n",
       "      <td>...</td>\n",
       "      <td>...</td>\n",
       "      <td>...</td>\n",
       "      <td>...</td>\n",
       "      <td>...</td>\n",
       "      <td>...</td>\n",
       "    </tr>\n",
       "    <tr>\n",
       "      <th>17893</th>\n",
       "      <td>116.531250</td>\n",
       "      <td>51.140269</td>\n",
       "      <td>-0.001220</td>\n",
       "      <td>-0.184189</td>\n",
       "      <td>4.510870</td>\n",
       "      <td>26.599514</td>\n",
       "      <td>6.634989</td>\n",
       "      <td>45.362390</td>\n",
       "      <td>0.0</td>\n",
       "    </tr>\n",
       "    <tr>\n",
       "      <th>17894</th>\n",
       "      <td>114.976562</td>\n",
       "      <td>53.783052</td>\n",
       "      <td>0.377599</td>\n",
       "      <td>-0.155708</td>\n",
       "      <td>2.772575</td>\n",
       "      <td>20.838488</td>\n",
       "      <td>8.440796</td>\n",
       "      <td>77.355028</td>\n",
       "      <td>0.0</td>\n",
       "    </tr>\n",
       "    <tr>\n",
       "      <th>17895</th>\n",
       "      <td>136.171875</td>\n",
       "      <td>48.924385</td>\n",
       "      <td>0.224414</td>\n",
       "      <td>0.063227</td>\n",
       "      <td>2.810201</td>\n",
       "      <td>18.695230</td>\n",
       "      <td>7.848577</td>\n",
       "      <td>69.388978</td>\n",
       "      <td>0.0</td>\n",
       "    </tr>\n",
       "    <tr>\n",
       "      <th>17896</th>\n",
       "      <td>106.500000</td>\n",
       "      <td>49.066122</td>\n",
       "      <td>0.245742</td>\n",
       "      <td>0.140377</td>\n",
       "      <td>2.331104</td>\n",
       "      <td>15.417568</td>\n",
       "      <td>9.008041</td>\n",
       "      <td>100.367616</td>\n",
       "      <td>0.0</td>\n",
       "    </tr>\n",
       "    <tr>\n",
       "      <th>17897</th>\n",
       "      <td>110.679688</td>\n",
       "      <td>38.252642</td>\n",
       "      <td>0.459937</td>\n",
       "      <td>1.690689</td>\n",
       "      <td>4.434783</td>\n",
       "      <td>22.201794</td>\n",
       "      <td>5.939747</td>\n",
       "      <td>39.781374</td>\n",
       "      <td>0.0</td>\n",
       "    </tr>\n",
       "  </tbody>\n",
       "</table>\n",
       "<p>17898 rows × 9 columns</p>\n",
       "</div>"
      ],
      "text/plain": [
       "          Mean_IP      SD_IP  Kurtosis_IP  Skewness_IP  Mean_DM_SNR  \\\n",
       "0      121.156250  48.372971     0.375485    -0.013165     3.168896   \n",
       "1       76.968750  36.175557     0.712898     3.388719     2.399666   \n",
       "2      130.585938  53.229534     0.133408    -0.297242     2.743311   \n",
       "3      156.398438  48.865942    -0.215989    -0.171294    17.471572   \n",
       "4       84.804688  36.117659     0.825013     3.274125     2.790134   \n",
       "...           ...        ...          ...          ...          ...   \n",
       "17893  116.531250  51.140269    -0.001220    -0.184189     4.510870   \n",
       "17894  114.976562  53.783052     0.377599    -0.155708     2.772575   \n",
       "17895  136.171875  48.924385     0.224414     0.063227     2.810201   \n",
       "17896  106.500000  49.066122     0.245742     0.140377     2.331104   \n",
       "17897  110.679688  38.252642     0.459937     1.690689     4.434783   \n",
       "\n",
       "       SD_DM_SNR  Kurtosis_DM-SNR  Skewness_DM-SNR  Target_class  \n",
       "0      18.399367         7.449874        65.159298           0.0  \n",
       "1      17.570997         9.414652       102.722975           0.0  \n",
       "2      22.362553         8.508364        74.031324           0.0  \n",
       "3      18.457026         2.958066         7.197842           0.0  \n",
       "4      20.618009         8.405008        76.291128           0.0  \n",
       "...          ...              ...              ...           ...  \n",
       "17893  26.599514         6.634989        45.362390           0.0  \n",
       "17894  20.838488         8.440796        77.355028           0.0  \n",
       "17895  18.695230         7.848577        69.388978           0.0  \n",
       "17896  15.417568         9.008041       100.367616           0.0  \n",
       "17897  22.201794         5.939747        39.781374           0.0  \n",
       "\n",
       "[17898 rows x 9 columns]"
      ]
     },
     "execution_count": 141,
     "metadata": {},
     "output_type": "execute_result"
    }
   ],
   "source": [
    "df"
   ]
  },
  {
   "cell_type": "markdown",
   "id": "051dc958-afbc-492f-8a75-c8387c59cd7d",
   "metadata": {},
   "source": [
    "# Standardization"
   ]
  },
  {
   "cell_type": "code",
   "execution_count": 154,
   "id": "dd4ee961-9b84-44a6-9efa-8b9c70d72b92",
   "metadata": {},
   "outputs": [],
   "source": [
    "#Splitting X and Y\n",
    "X = df.iloc[:,0:8]\n",
    "y= df.iloc[:,8:]"
   ]
  },
  {
   "cell_type": "code",
   "execution_count": 156,
   "id": "724dc888-0772-4493-9f65-8ce13d397835",
   "metadata": {},
   "outputs": [
    {
     "data": {
      "text/html": [
       "<div>\n",
       "<style scoped>\n",
       "    .dataframe tbody tr th:only-of-type {\n",
       "        vertical-align: middle;\n",
       "    }\n",
       "\n",
       "    .dataframe tbody tr th {\n",
       "        vertical-align: top;\n",
       "    }\n",
       "\n",
       "    .dataframe thead th {\n",
       "        text-align: right;\n",
       "    }\n",
       "</style>\n",
       "<table border=\"1\" class=\"dataframe\">\n",
       "  <thead>\n",
       "    <tr style=\"text-align: right;\">\n",
       "      <th></th>\n",
       "      <th>Target_class</th>\n",
       "    </tr>\n",
       "  </thead>\n",
       "  <tbody>\n",
       "    <tr>\n",
       "      <th>0</th>\n",
       "      <td>0.0</td>\n",
       "    </tr>\n",
       "    <tr>\n",
       "      <th>1</th>\n",
       "      <td>0.0</td>\n",
       "    </tr>\n",
       "    <tr>\n",
       "      <th>2</th>\n",
       "      <td>0.0</td>\n",
       "    </tr>\n",
       "    <tr>\n",
       "      <th>3</th>\n",
       "      <td>0.0</td>\n",
       "    </tr>\n",
       "    <tr>\n",
       "      <th>4</th>\n",
       "      <td>0.0</td>\n",
       "    </tr>\n",
       "    <tr>\n",
       "      <th>...</th>\n",
       "      <td>...</td>\n",
       "    </tr>\n",
       "    <tr>\n",
       "      <th>17893</th>\n",
       "      <td>0.0</td>\n",
       "    </tr>\n",
       "    <tr>\n",
       "      <th>17894</th>\n",
       "      <td>0.0</td>\n",
       "    </tr>\n",
       "    <tr>\n",
       "      <th>17895</th>\n",
       "      <td>0.0</td>\n",
       "    </tr>\n",
       "    <tr>\n",
       "      <th>17896</th>\n",
       "      <td>0.0</td>\n",
       "    </tr>\n",
       "    <tr>\n",
       "      <th>17897</th>\n",
       "      <td>0.0</td>\n",
       "    </tr>\n",
       "  </tbody>\n",
       "</table>\n",
       "<p>17898 rows × 1 columns</p>\n",
       "</div>"
      ],
      "text/plain": [
       "       Target_class\n",
       "0               0.0\n",
       "1               0.0\n",
       "2               0.0\n",
       "3               0.0\n",
       "4               0.0\n",
       "...             ...\n",
       "17893           0.0\n",
       "17894           0.0\n",
       "17895           0.0\n",
       "17896           0.0\n",
       "17897           0.0\n",
       "\n",
       "[17898 rows x 1 columns]"
      ]
     },
     "execution_count": 156,
     "metadata": {},
     "output_type": "execute_result"
    }
   ],
   "source": [
    "y"
   ]
  },
  {
   "cell_type": "code",
   "execution_count": 158,
   "id": "47d6c1d6-48dc-41c1-978e-1ada7ae29b0c",
   "metadata": {},
   "outputs": [
    {
     "data": {
      "text/html": [
       "<div>\n",
       "<style scoped>\n",
       "    .dataframe tbody tr th:only-of-type {\n",
       "        vertical-align: middle;\n",
       "    }\n",
       "\n",
       "    .dataframe tbody tr th {\n",
       "        vertical-align: top;\n",
       "    }\n",
       "\n",
       "    .dataframe thead th {\n",
       "        text-align: right;\n",
       "    }\n",
       "</style>\n",
       "<table border=\"1\" class=\"dataframe\">\n",
       "  <thead>\n",
       "    <tr style=\"text-align: right;\">\n",
       "      <th></th>\n",
       "      <th>Mean_IP</th>\n",
       "      <th>SD_IP</th>\n",
       "      <th>Kurtosis_IP</th>\n",
       "      <th>Skewness_IP</th>\n",
       "      <th>Mean_DM_SNR</th>\n",
       "      <th>SD_DM_SNR</th>\n",
       "      <th>Kurtosis_DM-SNR</th>\n",
       "      <th>Skewness_DM-SNR</th>\n",
       "    </tr>\n",
       "  </thead>\n",
       "  <tbody>\n",
       "    <tr>\n",
       "      <th>0</th>\n",
       "      <td>121.156250</td>\n",
       "      <td>48.372971</td>\n",
       "      <td>0.375485</td>\n",
       "      <td>-0.013165</td>\n",
       "      <td>3.168896</td>\n",
       "      <td>18.399367</td>\n",
       "      <td>7.449874</td>\n",
       "      <td>65.159298</td>\n",
       "    </tr>\n",
       "    <tr>\n",
       "      <th>1</th>\n",
       "      <td>76.968750</td>\n",
       "      <td>36.175557</td>\n",
       "      <td>0.712898</td>\n",
       "      <td>3.388719</td>\n",
       "      <td>2.399666</td>\n",
       "      <td>17.570997</td>\n",
       "      <td>9.414652</td>\n",
       "      <td>102.722975</td>\n",
       "    </tr>\n",
       "    <tr>\n",
       "      <th>2</th>\n",
       "      <td>130.585938</td>\n",
       "      <td>53.229534</td>\n",
       "      <td>0.133408</td>\n",
       "      <td>-0.297242</td>\n",
       "      <td>2.743311</td>\n",
       "      <td>22.362553</td>\n",
       "      <td>8.508364</td>\n",
       "      <td>74.031324</td>\n",
       "    </tr>\n",
       "    <tr>\n",
       "      <th>3</th>\n",
       "      <td>156.398438</td>\n",
       "      <td>48.865942</td>\n",
       "      <td>-0.215989</td>\n",
       "      <td>-0.171294</td>\n",
       "      <td>17.471572</td>\n",
       "      <td>18.457026</td>\n",
       "      <td>2.958066</td>\n",
       "      <td>7.197842</td>\n",
       "    </tr>\n",
       "    <tr>\n",
       "      <th>4</th>\n",
       "      <td>84.804688</td>\n",
       "      <td>36.117659</td>\n",
       "      <td>0.825013</td>\n",
       "      <td>3.274125</td>\n",
       "      <td>2.790134</td>\n",
       "      <td>20.618009</td>\n",
       "      <td>8.405008</td>\n",
       "      <td>76.291128</td>\n",
       "    </tr>\n",
       "    <tr>\n",
       "      <th>...</th>\n",
       "      <td>...</td>\n",
       "      <td>...</td>\n",
       "      <td>...</td>\n",
       "      <td>...</td>\n",
       "      <td>...</td>\n",
       "      <td>...</td>\n",
       "      <td>...</td>\n",
       "      <td>...</td>\n",
       "    </tr>\n",
       "    <tr>\n",
       "      <th>17893</th>\n",
       "      <td>116.531250</td>\n",
       "      <td>51.140269</td>\n",
       "      <td>-0.001220</td>\n",
       "      <td>-0.184189</td>\n",
       "      <td>4.510870</td>\n",
       "      <td>26.599514</td>\n",
       "      <td>6.634989</td>\n",
       "      <td>45.362390</td>\n",
       "    </tr>\n",
       "    <tr>\n",
       "      <th>17894</th>\n",
       "      <td>114.976562</td>\n",
       "      <td>53.783052</td>\n",
       "      <td>0.377599</td>\n",
       "      <td>-0.155708</td>\n",
       "      <td>2.772575</td>\n",
       "      <td>20.838488</td>\n",
       "      <td>8.440796</td>\n",
       "      <td>77.355028</td>\n",
       "    </tr>\n",
       "    <tr>\n",
       "      <th>17895</th>\n",
       "      <td>136.171875</td>\n",
       "      <td>48.924385</td>\n",
       "      <td>0.224414</td>\n",
       "      <td>0.063227</td>\n",
       "      <td>2.810201</td>\n",
       "      <td>18.695230</td>\n",
       "      <td>7.848577</td>\n",
       "      <td>69.388978</td>\n",
       "    </tr>\n",
       "    <tr>\n",
       "      <th>17896</th>\n",
       "      <td>106.500000</td>\n",
       "      <td>49.066122</td>\n",
       "      <td>0.245742</td>\n",
       "      <td>0.140377</td>\n",
       "      <td>2.331104</td>\n",
       "      <td>15.417568</td>\n",
       "      <td>9.008041</td>\n",
       "      <td>100.367616</td>\n",
       "    </tr>\n",
       "    <tr>\n",
       "      <th>17897</th>\n",
       "      <td>110.679688</td>\n",
       "      <td>38.252642</td>\n",
       "      <td>0.459937</td>\n",
       "      <td>1.690689</td>\n",
       "      <td>4.434783</td>\n",
       "      <td>22.201794</td>\n",
       "      <td>5.939747</td>\n",
       "      <td>39.781374</td>\n",
       "    </tr>\n",
       "  </tbody>\n",
       "</table>\n",
       "<p>17898 rows × 8 columns</p>\n",
       "</div>"
      ],
      "text/plain": [
       "          Mean_IP      SD_IP  Kurtosis_IP  Skewness_IP  Mean_DM_SNR  \\\n",
       "0      121.156250  48.372971     0.375485    -0.013165     3.168896   \n",
       "1       76.968750  36.175557     0.712898     3.388719     2.399666   \n",
       "2      130.585938  53.229534     0.133408    -0.297242     2.743311   \n",
       "3      156.398438  48.865942    -0.215989    -0.171294    17.471572   \n",
       "4       84.804688  36.117659     0.825013     3.274125     2.790134   \n",
       "...           ...        ...          ...          ...          ...   \n",
       "17893  116.531250  51.140269    -0.001220    -0.184189     4.510870   \n",
       "17894  114.976562  53.783052     0.377599    -0.155708     2.772575   \n",
       "17895  136.171875  48.924385     0.224414     0.063227     2.810201   \n",
       "17896  106.500000  49.066122     0.245742     0.140377     2.331104   \n",
       "17897  110.679688  38.252642     0.459937     1.690689     4.434783   \n",
       "\n",
       "       SD_DM_SNR  Kurtosis_DM-SNR  Skewness_DM-SNR  \n",
       "0      18.399367         7.449874        65.159298  \n",
       "1      17.570997         9.414652       102.722975  \n",
       "2      22.362553         8.508364        74.031324  \n",
       "3      18.457026         2.958066         7.197842  \n",
       "4      20.618009         8.405008        76.291128  \n",
       "...          ...              ...              ...  \n",
       "17893  26.599514         6.634989        45.362390  \n",
       "17894  20.838488         8.440796        77.355028  \n",
       "17895  18.695230         7.848577        69.388978  \n",
       "17896  15.417568         9.008041       100.367616  \n",
       "17897  22.201794         5.939747        39.781374  \n",
       "\n",
       "[17898 rows x 8 columns]"
      ]
     },
     "execution_count": 158,
     "metadata": {},
     "output_type": "execute_result"
    }
   ],
   "source": [
    "X"
   ]
  },
  {
   "cell_type": "code",
   "execution_count": 160,
   "id": "b0e698e2-bcb4-4721-a4fd-05d28856f53b",
   "metadata": {},
   "outputs": [],
   "source": [
    "# Feature Scaling\n",
    "from sklearn.preprocessing import StandardScaler\n",
    "sc = StandardScaler()\n"
   ]
  },
  {
   "cell_type": "code",
   "execution_count": 162,
   "id": "ddca908a-ef1d-438d-8d59-958ec8aef22c",
   "metadata": {},
   "outputs": [],
   "source": [
    "X = sc.fit_transform(X)"
   ]
  },
  {
   "cell_type": "code",
   "execution_count": 164,
   "id": "16dbbfe8-783e-4144-a372-a72751d89192",
   "metadata": {},
   "outputs": [
    {
     "data": {
      "text/plain": [
       "array([[ 0.39280351,  0.26646793, -0.06921749, ..., -0.38545828,\n",
       "        -0.18945593, -0.36985723],\n",
       "       [-1.32975704, -1.51599848,  0.26996713, ..., -0.42967497,\n",
       "         0.24658334, -0.00900108],\n",
       "       [ 0.76040086,  0.97618058, -0.31256477, ..., -0.17391143,\n",
       "         0.04545256, -0.28462794],\n",
       "       ...,\n",
       "       [ 0.97815736,  0.34704869, -0.22108162, ..., -0.36966568,\n",
       "        -0.10097271, -0.32922472],\n",
       "       [-0.17854083,  0.36776144, -0.19964098, ..., -0.54462063,\n",
       "         0.15634484, -0.03162788],\n",
       "       [-0.01560414, -1.21246414,  0.0156783 , ..., -0.18249241,\n",
       "        -0.52459536, -0.61365071]])"
      ]
     },
     "execution_count": 164,
     "metadata": {},
     "output_type": "execute_result"
    }
   ],
   "source": [
    "X"
   ]
  },
  {
   "cell_type": "markdown",
   "id": "6a267ca5-76ae-42b3-b8c6-516b091bee94",
   "metadata": {},
   "source": [
    "# Splitting Train and Test Data"
   ]
  },
  {
   "cell_type": "code",
   "execution_count": 167,
   "id": "9d66781d-ee50-4803-b454-a92a860cc255",
   "metadata": {},
   "outputs": [],
   "source": [
    "new_df_Train = df.iloc[0:12528]\n",
    "new_df_Test = df.iloc[12528:17898]"
   ]
  },
  {
   "cell_type": "markdown",
   "id": "3cc31d28-5da3-4fc9-bace-81fd3cb05df2",
   "metadata": {},
   "source": [
    "# Applying SVM Model"
   ]
  },
  {
   "cell_type": "code",
   "execution_count": 170,
   "id": "c587aa92-4809-4643-a340-c36c901ee5ad",
   "metadata": {},
   "outputs": [
    {
     "data": {
      "text/html": [
       "<div>\n",
       "<style scoped>\n",
       "    .dataframe tbody tr th:only-of-type {\n",
       "        vertical-align: middle;\n",
       "    }\n",
       "\n",
       "    .dataframe tbody tr th {\n",
       "        vertical-align: top;\n",
       "    }\n",
       "\n",
       "    .dataframe thead th {\n",
       "        text-align: right;\n",
       "    }\n",
       "</style>\n",
       "<table border=\"1\" class=\"dataframe\">\n",
       "  <thead>\n",
       "    <tr style=\"text-align: right;\">\n",
       "      <th></th>\n",
       "      <th>Mean_IP</th>\n",
       "      <th>SD_IP</th>\n",
       "      <th>Kurtosis_IP</th>\n",
       "      <th>Skewness_IP</th>\n",
       "      <th>Mean_DM_SNR</th>\n",
       "      <th>SD_DM_SNR</th>\n",
       "      <th>Kurtosis_DM-SNR</th>\n",
       "      <th>Skewness_DM-SNR</th>\n",
       "      <th>Target_class</th>\n",
       "    </tr>\n",
       "  </thead>\n",
       "  <tbody>\n",
       "    <tr>\n",
       "      <th>0</th>\n",
       "      <td>121.156250</td>\n",
       "      <td>48.372971</td>\n",
       "      <td>0.375485</td>\n",
       "      <td>-0.013165</td>\n",
       "      <td>3.168896</td>\n",
       "      <td>18.399367</td>\n",
       "      <td>7.449874</td>\n",
       "      <td>65.159298</td>\n",
       "      <td>0.0</td>\n",
       "    </tr>\n",
       "    <tr>\n",
       "      <th>1</th>\n",
       "      <td>76.968750</td>\n",
       "      <td>36.175557</td>\n",
       "      <td>0.712898</td>\n",
       "      <td>3.388719</td>\n",
       "      <td>2.399666</td>\n",
       "      <td>17.570997</td>\n",
       "      <td>9.414652</td>\n",
       "      <td>102.722975</td>\n",
       "      <td>0.0</td>\n",
       "    </tr>\n",
       "    <tr>\n",
       "      <th>2</th>\n",
       "      <td>130.585938</td>\n",
       "      <td>53.229534</td>\n",
       "      <td>0.133408</td>\n",
       "      <td>-0.297242</td>\n",
       "      <td>2.743311</td>\n",
       "      <td>22.362553</td>\n",
       "      <td>8.508364</td>\n",
       "      <td>74.031324</td>\n",
       "      <td>0.0</td>\n",
       "    </tr>\n",
       "    <tr>\n",
       "      <th>3</th>\n",
       "      <td>156.398438</td>\n",
       "      <td>48.865942</td>\n",
       "      <td>-0.215989</td>\n",
       "      <td>-0.171294</td>\n",
       "      <td>17.471572</td>\n",
       "      <td>18.457026</td>\n",
       "      <td>2.958066</td>\n",
       "      <td>7.197842</td>\n",
       "      <td>0.0</td>\n",
       "    </tr>\n",
       "    <tr>\n",
       "      <th>4</th>\n",
       "      <td>84.804688</td>\n",
       "      <td>36.117659</td>\n",
       "      <td>0.825013</td>\n",
       "      <td>3.274125</td>\n",
       "      <td>2.790134</td>\n",
       "      <td>20.618009</td>\n",
       "      <td>8.405008</td>\n",
       "      <td>76.291128</td>\n",
       "      <td>0.0</td>\n",
       "    </tr>\n",
       "    <tr>\n",
       "      <th>...</th>\n",
       "      <td>...</td>\n",
       "      <td>...</td>\n",
       "      <td>...</td>\n",
       "      <td>...</td>\n",
       "      <td>...</td>\n",
       "      <td>...</td>\n",
       "      <td>...</td>\n",
       "      <td>...</td>\n",
       "      <td>...</td>\n",
       "    </tr>\n",
       "    <tr>\n",
       "      <th>12523</th>\n",
       "      <td>124.312500</td>\n",
       "      <td>53.179053</td>\n",
       "      <td>-0.012418</td>\n",
       "      <td>-0.556021</td>\n",
       "      <td>7.186455</td>\n",
       "      <td>29.308266</td>\n",
       "      <td>4.531382</td>\n",
       "      <td>21.725143</td>\n",
       "      <td>0.0</td>\n",
       "    </tr>\n",
       "    <tr>\n",
       "      <th>12524</th>\n",
       "      <td>115.617188</td>\n",
       "      <td>46.784600</td>\n",
       "      <td>0.218177</td>\n",
       "      <td>0.226757</td>\n",
       "      <td>6.140468</td>\n",
       "      <td>18.457026</td>\n",
       "      <td>5.732201</td>\n",
       "      <td>34.357283</td>\n",
       "      <td>0.0</td>\n",
       "    </tr>\n",
       "    <tr>\n",
       "      <th>12525</th>\n",
       "      <td>116.031250</td>\n",
       "      <td>43.213846</td>\n",
       "      <td>0.663456</td>\n",
       "      <td>0.433088</td>\n",
       "      <td>0.785117</td>\n",
       "      <td>11.628149</td>\n",
       "      <td>17.055215</td>\n",
       "      <td>312.204325</td>\n",
       "      <td>0.0</td>\n",
       "    </tr>\n",
       "    <tr>\n",
       "      <th>12526</th>\n",
       "      <td>135.664062</td>\n",
       "      <td>49.933749</td>\n",
       "      <td>-0.089940</td>\n",
       "      <td>-0.226726</td>\n",
       "      <td>3.859532</td>\n",
       "      <td>21.501505</td>\n",
       "      <td>7.398395</td>\n",
       "      <td>62.334018</td>\n",
       "      <td>0.0</td>\n",
       "    </tr>\n",
       "    <tr>\n",
       "      <th>12527</th>\n",
       "      <td>120.726562</td>\n",
       "      <td>50.472256</td>\n",
       "      <td>0.346178</td>\n",
       "      <td>0.184797</td>\n",
       "      <td>0.769231</td>\n",
       "      <td>11.792603</td>\n",
       "      <td>17.662222</td>\n",
       "      <td>329.548016</td>\n",
       "      <td>0.0</td>\n",
       "    </tr>\n",
       "  </tbody>\n",
       "</table>\n",
       "<p>12528 rows × 9 columns</p>\n",
       "</div>"
      ],
      "text/plain": [
       "          Mean_IP      SD_IP  Kurtosis_IP  Skewness_IP  Mean_DM_SNR  \\\n",
       "0      121.156250  48.372971     0.375485    -0.013165     3.168896   \n",
       "1       76.968750  36.175557     0.712898     3.388719     2.399666   \n",
       "2      130.585938  53.229534     0.133408    -0.297242     2.743311   \n",
       "3      156.398438  48.865942    -0.215989    -0.171294    17.471572   \n",
       "4       84.804688  36.117659     0.825013     3.274125     2.790134   \n",
       "...           ...        ...          ...          ...          ...   \n",
       "12523  124.312500  53.179053    -0.012418    -0.556021     7.186455   \n",
       "12524  115.617188  46.784600     0.218177     0.226757     6.140468   \n",
       "12525  116.031250  43.213846     0.663456     0.433088     0.785117   \n",
       "12526  135.664062  49.933749    -0.089940    -0.226726     3.859532   \n",
       "12527  120.726562  50.472256     0.346178     0.184797     0.769231   \n",
       "\n",
       "       SD_DM_SNR  Kurtosis_DM-SNR  Skewness_DM-SNR  Target_class  \n",
       "0      18.399367         7.449874        65.159298           0.0  \n",
       "1      17.570997         9.414652       102.722975           0.0  \n",
       "2      22.362553         8.508364        74.031324           0.0  \n",
       "3      18.457026         2.958066         7.197842           0.0  \n",
       "4      20.618009         8.405008        76.291128           0.0  \n",
       "...          ...              ...              ...           ...  \n",
       "12523  29.308266         4.531382        21.725143           0.0  \n",
       "12524  18.457026         5.732201        34.357283           0.0  \n",
       "12525  11.628149        17.055215       312.204325           0.0  \n",
       "12526  21.501505         7.398395        62.334018           0.0  \n",
       "12527  11.792603        17.662222       329.548016           0.0  \n",
       "\n",
       "[12528 rows x 9 columns]"
      ]
     },
     "execution_count": 170,
     "metadata": {},
     "output_type": "execute_result"
    }
   ],
   "source": [
    "new_df_Train"
   ]
  },
  {
   "cell_type": "code",
   "execution_count": 172,
   "id": "0dbbee6c-070f-4ea4-b274-e11c52bb7caf",
   "metadata": {},
   "outputs": [],
   "source": [
    "X_new_train = new_df_Train.iloc[:,0:8]"
   ]
  },
  {
   "cell_type": "code",
   "execution_count": 174,
   "id": "1e3ee3f6-d877-47ea-b4a6-4dabe93b93c3",
   "metadata": {},
   "outputs": [],
   "source": [
    "y_new_train = new_df_Train.iloc[:,8:]"
   ]
  },
  {
   "cell_type": "code",
   "execution_count": 176,
   "id": "7bf99dac-17b1-45d7-9a35-9f13783bd17b",
   "metadata": {},
   "outputs": [
    {
     "data": {
      "text/html": [
       "<div>\n",
       "<style scoped>\n",
       "    .dataframe tbody tr th:only-of-type {\n",
       "        vertical-align: middle;\n",
       "    }\n",
       "\n",
       "    .dataframe tbody tr th {\n",
       "        vertical-align: top;\n",
       "    }\n",
       "\n",
       "    .dataframe thead th {\n",
       "        text-align: right;\n",
       "    }\n",
       "</style>\n",
       "<table border=\"1\" class=\"dataframe\">\n",
       "  <thead>\n",
       "    <tr style=\"text-align: right;\">\n",
       "      <th></th>\n",
       "      <th>Target_class</th>\n",
       "    </tr>\n",
       "  </thead>\n",
       "  <tbody>\n",
       "    <tr>\n",
       "      <th>0</th>\n",
       "      <td>0.0</td>\n",
       "    </tr>\n",
       "    <tr>\n",
       "      <th>1</th>\n",
       "      <td>0.0</td>\n",
       "    </tr>\n",
       "    <tr>\n",
       "      <th>2</th>\n",
       "      <td>0.0</td>\n",
       "    </tr>\n",
       "    <tr>\n",
       "      <th>3</th>\n",
       "      <td>0.0</td>\n",
       "    </tr>\n",
       "    <tr>\n",
       "      <th>4</th>\n",
       "      <td>0.0</td>\n",
       "    </tr>\n",
       "    <tr>\n",
       "      <th>...</th>\n",
       "      <td>...</td>\n",
       "    </tr>\n",
       "    <tr>\n",
       "      <th>12523</th>\n",
       "      <td>0.0</td>\n",
       "    </tr>\n",
       "    <tr>\n",
       "      <th>12524</th>\n",
       "      <td>0.0</td>\n",
       "    </tr>\n",
       "    <tr>\n",
       "      <th>12525</th>\n",
       "      <td>0.0</td>\n",
       "    </tr>\n",
       "    <tr>\n",
       "      <th>12526</th>\n",
       "      <td>0.0</td>\n",
       "    </tr>\n",
       "    <tr>\n",
       "      <th>12527</th>\n",
       "      <td>0.0</td>\n",
       "    </tr>\n",
       "  </tbody>\n",
       "</table>\n",
       "<p>12528 rows × 1 columns</p>\n",
       "</div>"
      ],
      "text/plain": [
       "       Target_class\n",
       "0               0.0\n",
       "1               0.0\n",
       "2               0.0\n",
       "3               0.0\n",
       "4               0.0\n",
       "...             ...\n",
       "12523           0.0\n",
       "12524           0.0\n",
       "12525           0.0\n",
       "12526           0.0\n",
       "12527           0.0\n",
       "\n",
       "[12528 rows x 1 columns]"
      ]
     },
     "execution_count": 176,
     "metadata": {},
     "output_type": "execute_result"
    }
   ],
   "source": [
    "y_new_train "
   ]
  },
  {
   "cell_type": "code",
   "execution_count": 178,
   "id": "7b09eef1-9e45-48f6-8a00-8e4f187521bf",
   "metadata": {},
   "outputs": [
    {
     "data": {
      "text/html": [
       "<div>\n",
       "<style scoped>\n",
       "    .dataframe tbody tr th:only-of-type {\n",
       "        vertical-align: middle;\n",
       "    }\n",
       "\n",
       "    .dataframe tbody tr th {\n",
       "        vertical-align: top;\n",
       "    }\n",
       "\n",
       "    .dataframe thead th {\n",
       "        text-align: right;\n",
       "    }\n",
       "</style>\n",
       "<table border=\"1\" class=\"dataframe\">\n",
       "  <thead>\n",
       "    <tr style=\"text-align: right;\">\n",
       "      <th></th>\n",
       "      <th>Mean_IP</th>\n",
       "      <th>SD_IP</th>\n",
       "      <th>Kurtosis_IP</th>\n",
       "      <th>Skewness_IP</th>\n",
       "      <th>Mean_DM_SNR</th>\n",
       "      <th>SD_DM_SNR</th>\n",
       "      <th>Kurtosis_DM-SNR</th>\n",
       "      <th>Skewness_DM-SNR</th>\n",
       "    </tr>\n",
       "  </thead>\n",
       "  <tbody>\n",
       "    <tr>\n",
       "      <th>0</th>\n",
       "      <td>121.156250</td>\n",
       "      <td>48.372971</td>\n",
       "      <td>0.375485</td>\n",
       "      <td>-0.013165</td>\n",
       "      <td>3.168896</td>\n",
       "      <td>18.399367</td>\n",
       "      <td>7.449874</td>\n",
       "      <td>65.159298</td>\n",
       "    </tr>\n",
       "    <tr>\n",
       "      <th>1</th>\n",
       "      <td>76.968750</td>\n",
       "      <td>36.175557</td>\n",
       "      <td>0.712898</td>\n",
       "      <td>3.388719</td>\n",
       "      <td>2.399666</td>\n",
       "      <td>17.570997</td>\n",
       "      <td>9.414652</td>\n",
       "      <td>102.722975</td>\n",
       "    </tr>\n",
       "    <tr>\n",
       "      <th>2</th>\n",
       "      <td>130.585938</td>\n",
       "      <td>53.229534</td>\n",
       "      <td>0.133408</td>\n",
       "      <td>-0.297242</td>\n",
       "      <td>2.743311</td>\n",
       "      <td>22.362553</td>\n",
       "      <td>8.508364</td>\n",
       "      <td>74.031324</td>\n",
       "    </tr>\n",
       "    <tr>\n",
       "      <th>3</th>\n",
       "      <td>156.398438</td>\n",
       "      <td>48.865942</td>\n",
       "      <td>-0.215989</td>\n",
       "      <td>-0.171294</td>\n",
       "      <td>17.471572</td>\n",
       "      <td>18.457026</td>\n",
       "      <td>2.958066</td>\n",
       "      <td>7.197842</td>\n",
       "    </tr>\n",
       "    <tr>\n",
       "      <th>4</th>\n",
       "      <td>84.804688</td>\n",
       "      <td>36.117659</td>\n",
       "      <td>0.825013</td>\n",
       "      <td>3.274125</td>\n",
       "      <td>2.790134</td>\n",
       "      <td>20.618009</td>\n",
       "      <td>8.405008</td>\n",
       "      <td>76.291128</td>\n",
       "    </tr>\n",
       "    <tr>\n",
       "      <th>...</th>\n",
       "      <td>...</td>\n",
       "      <td>...</td>\n",
       "      <td>...</td>\n",
       "      <td>...</td>\n",
       "      <td>...</td>\n",
       "      <td>...</td>\n",
       "      <td>...</td>\n",
       "      <td>...</td>\n",
       "    </tr>\n",
       "    <tr>\n",
       "      <th>12523</th>\n",
       "      <td>124.312500</td>\n",
       "      <td>53.179053</td>\n",
       "      <td>-0.012418</td>\n",
       "      <td>-0.556021</td>\n",
       "      <td>7.186455</td>\n",
       "      <td>29.308266</td>\n",
       "      <td>4.531382</td>\n",
       "      <td>21.725143</td>\n",
       "    </tr>\n",
       "    <tr>\n",
       "      <th>12524</th>\n",
       "      <td>115.617188</td>\n",
       "      <td>46.784600</td>\n",
       "      <td>0.218177</td>\n",
       "      <td>0.226757</td>\n",
       "      <td>6.140468</td>\n",
       "      <td>18.457026</td>\n",
       "      <td>5.732201</td>\n",
       "      <td>34.357283</td>\n",
       "    </tr>\n",
       "    <tr>\n",
       "      <th>12525</th>\n",
       "      <td>116.031250</td>\n",
       "      <td>43.213846</td>\n",
       "      <td>0.663456</td>\n",
       "      <td>0.433088</td>\n",
       "      <td>0.785117</td>\n",
       "      <td>11.628149</td>\n",
       "      <td>17.055215</td>\n",
       "      <td>312.204325</td>\n",
       "    </tr>\n",
       "    <tr>\n",
       "      <th>12526</th>\n",
       "      <td>135.664062</td>\n",
       "      <td>49.933749</td>\n",
       "      <td>-0.089940</td>\n",
       "      <td>-0.226726</td>\n",
       "      <td>3.859532</td>\n",
       "      <td>21.501505</td>\n",
       "      <td>7.398395</td>\n",
       "      <td>62.334018</td>\n",
       "    </tr>\n",
       "    <tr>\n",
       "      <th>12527</th>\n",
       "      <td>120.726562</td>\n",
       "      <td>50.472256</td>\n",
       "      <td>0.346178</td>\n",
       "      <td>0.184797</td>\n",
       "      <td>0.769231</td>\n",
       "      <td>11.792603</td>\n",
       "      <td>17.662222</td>\n",
       "      <td>329.548016</td>\n",
       "    </tr>\n",
       "  </tbody>\n",
       "</table>\n",
       "<p>12528 rows × 8 columns</p>\n",
       "</div>"
      ],
      "text/plain": [
       "          Mean_IP      SD_IP  Kurtosis_IP  Skewness_IP  Mean_DM_SNR  \\\n",
       "0      121.156250  48.372971     0.375485    -0.013165     3.168896   \n",
       "1       76.968750  36.175557     0.712898     3.388719     2.399666   \n",
       "2      130.585938  53.229534     0.133408    -0.297242     2.743311   \n",
       "3      156.398438  48.865942    -0.215989    -0.171294    17.471572   \n",
       "4       84.804688  36.117659     0.825013     3.274125     2.790134   \n",
       "...           ...        ...          ...          ...          ...   \n",
       "12523  124.312500  53.179053    -0.012418    -0.556021     7.186455   \n",
       "12524  115.617188  46.784600     0.218177     0.226757     6.140468   \n",
       "12525  116.031250  43.213846     0.663456     0.433088     0.785117   \n",
       "12526  135.664062  49.933749    -0.089940    -0.226726     3.859532   \n",
       "12527  120.726562  50.472256     0.346178     0.184797     0.769231   \n",
       "\n",
       "       SD_DM_SNR  Kurtosis_DM-SNR  Skewness_DM-SNR  \n",
       "0      18.399367         7.449874        65.159298  \n",
       "1      17.570997         9.414652       102.722975  \n",
       "2      22.362553         8.508364        74.031324  \n",
       "3      18.457026         2.958066         7.197842  \n",
       "4      20.618009         8.405008        76.291128  \n",
       "...          ...              ...              ...  \n",
       "12523  29.308266         4.531382        21.725143  \n",
       "12524  18.457026         5.732201        34.357283  \n",
       "12525  11.628149        17.055215       312.204325  \n",
       "12526  21.501505         7.398395        62.334018  \n",
       "12527  11.792603        17.662222       329.548016  \n",
       "\n",
       "[12528 rows x 8 columns]"
      ]
     },
     "execution_count": 178,
     "metadata": {},
     "output_type": "execute_result"
    }
   ],
   "source": [
    "X_new_train"
   ]
  },
  {
   "cell_type": "code",
   "execution_count": 182,
   "id": "e9824e10-f97c-45f9-8407-759f7b4a0975",
   "metadata": {},
   "outputs": [
    {
     "data": {
      "text/html": [
       "<div>\n",
       "<style scoped>\n",
       "    .dataframe tbody tr th:only-of-type {\n",
       "        vertical-align: middle;\n",
       "    }\n",
       "\n",
       "    .dataframe tbody tr th {\n",
       "        vertical-align: top;\n",
       "    }\n",
       "\n",
       "    .dataframe thead th {\n",
       "        text-align: right;\n",
       "    }\n",
       "</style>\n",
       "<table border=\"1\" class=\"dataframe\">\n",
       "  <thead>\n",
       "    <tr style=\"text-align: right;\">\n",
       "      <th></th>\n",
       "      <th>Mean_IP</th>\n",
       "      <th>SD_IP</th>\n",
       "      <th>Kurtosis_IP</th>\n",
       "      <th>Skewness_IP</th>\n",
       "      <th>Mean_DM_SNR</th>\n",
       "      <th>SD_DM_SNR</th>\n",
       "      <th>Kurtosis_DM-SNR</th>\n",
       "      <th>Skewness_DM-SNR</th>\n",
       "      <th>Target_class</th>\n",
       "    </tr>\n",
       "  </thead>\n",
       "  <tbody>\n",
       "    <tr>\n",
       "      <th>12528</th>\n",
       "      <td>116.906250</td>\n",
       "      <td>48.920605</td>\n",
       "      <td>0.186046</td>\n",
       "      <td>-0.129815</td>\n",
       "      <td>3.037625</td>\n",
       "      <td>17.737102</td>\n",
       "      <td>8.122621</td>\n",
       "      <td>78.813405</td>\n",
       "      <td>0.0</td>\n",
       "    </tr>\n",
       "    <tr>\n",
       "      <th>12529</th>\n",
       "      <td>75.585938</td>\n",
       "      <td>34.386254</td>\n",
       "      <td>2.025498</td>\n",
       "      <td>8.652913</td>\n",
       "      <td>3.765050</td>\n",
       "      <td>21.897049</td>\n",
       "      <td>7.048189</td>\n",
       "      <td>55.878791</td>\n",
       "      <td>0.0</td>\n",
       "    </tr>\n",
       "    <tr>\n",
       "      <th>12530</th>\n",
       "      <td>103.273438</td>\n",
       "      <td>46.996628</td>\n",
       "      <td>0.504295</td>\n",
       "      <td>0.821088</td>\n",
       "      <td>2.244983</td>\n",
       "      <td>15.622566</td>\n",
       "      <td>9.330498</td>\n",
       "      <td>105.134941</td>\n",
       "      <td>0.0</td>\n",
       "    </tr>\n",
       "    <tr>\n",
       "      <th>12531</th>\n",
       "      <td>101.078125</td>\n",
       "      <td>48.587487</td>\n",
       "      <td>1.011427</td>\n",
       "      <td>1.151870</td>\n",
       "      <td>81.887960</td>\n",
       "      <td>81.464136</td>\n",
       "      <td>0.485105</td>\n",
       "      <td>-1.117904</td>\n",
       "      <td>0.0</td>\n",
       "    </tr>\n",
       "    <tr>\n",
       "      <th>12532</th>\n",
       "      <td>113.226562</td>\n",
       "      <td>48.608804</td>\n",
       "      <td>0.291538</td>\n",
       "      <td>0.292120</td>\n",
       "      <td>6.291806</td>\n",
       "      <td>26.585056</td>\n",
       "      <td>4.540138</td>\n",
       "      <td>21.708268</td>\n",
       "      <td>0.0</td>\n",
       "    </tr>\n",
       "    <tr>\n",
       "      <th>...</th>\n",
       "      <td>...</td>\n",
       "      <td>...</td>\n",
       "      <td>...</td>\n",
       "      <td>...</td>\n",
       "      <td>...</td>\n",
       "      <td>...</td>\n",
       "      <td>...</td>\n",
       "      <td>...</td>\n",
       "      <td>...</td>\n",
       "    </tr>\n",
       "    <tr>\n",
       "      <th>17893</th>\n",
       "      <td>116.531250</td>\n",
       "      <td>51.140269</td>\n",
       "      <td>-0.001220</td>\n",
       "      <td>-0.184189</td>\n",
       "      <td>4.510870</td>\n",
       "      <td>26.599514</td>\n",
       "      <td>6.634989</td>\n",
       "      <td>45.362390</td>\n",
       "      <td>0.0</td>\n",
       "    </tr>\n",
       "    <tr>\n",
       "      <th>17894</th>\n",
       "      <td>114.976562</td>\n",
       "      <td>53.783052</td>\n",
       "      <td>0.377599</td>\n",
       "      <td>-0.155708</td>\n",
       "      <td>2.772575</td>\n",
       "      <td>20.838488</td>\n",
       "      <td>8.440796</td>\n",
       "      <td>77.355028</td>\n",
       "      <td>0.0</td>\n",
       "    </tr>\n",
       "    <tr>\n",
       "      <th>17895</th>\n",
       "      <td>136.171875</td>\n",
       "      <td>48.924385</td>\n",
       "      <td>0.224414</td>\n",
       "      <td>0.063227</td>\n",
       "      <td>2.810201</td>\n",
       "      <td>18.695230</td>\n",
       "      <td>7.848577</td>\n",
       "      <td>69.388978</td>\n",
       "      <td>0.0</td>\n",
       "    </tr>\n",
       "    <tr>\n",
       "      <th>17896</th>\n",
       "      <td>106.500000</td>\n",
       "      <td>49.066122</td>\n",
       "      <td>0.245742</td>\n",
       "      <td>0.140377</td>\n",
       "      <td>2.331104</td>\n",
       "      <td>15.417568</td>\n",
       "      <td>9.008041</td>\n",
       "      <td>100.367616</td>\n",
       "      <td>0.0</td>\n",
       "    </tr>\n",
       "    <tr>\n",
       "      <th>17897</th>\n",
       "      <td>110.679688</td>\n",
       "      <td>38.252642</td>\n",
       "      <td>0.459937</td>\n",
       "      <td>1.690689</td>\n",
       "      <td>4.434783</td>\n",
       "      <td>22.201794</td>\n",
       "      <td>5.939747</td>\n",
       "      <td>39.781374</td>\n",
       "      <td>0.0</td>\n",
       "    </tr>\n",
       "  </tbody>\n",
       "</table>\n",
       "<p>5370 rows × 9 columns</p>\n",
       "</div>"
      ],
      "text/plain": [
       "          Mean_IP      SD_IP  Kurtosis_IP  Skewness_IP  Mean_DM_SNR  \\\n",
       "12528  116.906250  48.920605     0.186046    -0.129815     3.037625   \n",
       "12529   75.585938  34.386254     2.025498     8.652913     3.765050   \n",
       "12530  103.273438  46.996628     0.504295     0.821088     2.244983   \n",
       "12531  101.078125  48.587487     1.011427     1.151870    81.887960   \n",
       "12532  113.226562  48.608804     0.291538     0.292120     6.291806   \n",
       "...           ...        ...          ...          ...          ...   \n",
       "17893  116.531250  51.140269    -0.001220    -0.184189     4.510870   \n",
       "17894  114.976562  53.783052     0.377599    -0.155708     2.772575   \n",
       "17895  136.171875  48.924385     0.224414     0.063227     2.810201   \n",
       "17896  106.500000  49.066122     0.245742     0.140377     2.331104   \n",
       "17897  110.679688  38.252642     0.459937     1.690689     4.434783   \n",
       "\n",
       "       SD_DM_SNR  Kurtosis_DM-SNR  Skewness_DM-SNR  Target_class  \n",
       "12528  17.737102         8.122621        78.813405           0.0  \n",
       "12529  21.897049         7.048189        55.878791           0.0  \n",
       "12530  15.622566         9.330498       105.134941           0.0  \n",
       "12531  81.464136         0.485105        -1.117904           0.0  \n",
       "12532  26.585056         4.540138        21.708268           0.0  \n",
       "...          ...              ...              ...           ...  \n",
       "17893  26.599514         6.634989        45.362390           0.0  \n",
       "17894  20.838488         8.440796        77.355028           0.0  \n",
       "17895  18.695230         7.848577        69.388978           0.0  \n",
       "17896  15.417568         9.008041       100.367616           0.0  \n",
       "17897  22.201794         5.939747        39.781374           0.0  \n",
       "\n",
       "[5370 rows x 9 columns]"
      ]
     },
     "execution_count": 182,
     "metadata": {},
     "output_type": "execute_result"
    }
   ],
   "source": [
    "new_df_Test"
   ]
  },
  {
   "cell_type": "code",
   "execution_count": 184,
   "id": "e74bcc7c-18ac-4d73-8d67-c17fa03f7273",
   "metadata": {},
   "outputs": [],
   "source": [
    "X_new_test = new_df_Test.iloc[:,0:8]"
   ]
  },
  {
   "cell_type": "code",
   "execution_count": 186,
   "id": "c0ccb022-a705-43ef-a249-8fc6d1946799",
   "metadata": {},
   "outputs": [],
   "source": [
    "y_new_test = new_df_Test.iloc[:,8:]"
   ]
  },
  {
   "cell_type": "code",
   "execution_count": 188,
   "id": "8b9d789a-b7e2-4b2c-a2fc-1feed84b9d6a",
   "metadata": {},
   "outputs": [],
   "source": [
    "from sklearn.preprocessing import StandardScaler\n",
    "sc = StandardScaler()\n",
    "X_train = sc.fit_transform(X_new_train)\n",
    "X_test= sc.fit_transform(X_new_test)"
   ]
  },
  {
   "cell_type": "code",
   "execution_count": 190,
   "id": "3de5e2c4-9118-47f9-9b4c-e5c6e6ce263b",
   "metadata": {},
   "outputs": [],
   "source": [
    "from sklearn.svm import SVC\n",
    "model = SVC()"
   ]
  },
  {
   "cell_type": "code",
   "execution_count": 192,
   "id": "64f75a47-4a8d-46eb-ab3b-51055e96f4ad",
   "metadata": {},
   "outputs": [
    {
     "data": {
      "text/html": [
       "<style>#sk-container-id-1 {\n",
       "  /* Definition of color scheme common for light and dark mode */\n",
       "  --sklearn-color-text: black;\n",
       "  --sklearn-color-line: gray;\n",
       "  /* Definition of color scheme for unfitted estimators */\n",
       "  --sklearn-color-unfitted-level-0: #fff5e6;\n",
       "  --sklearn-color-unfitted-level-1: #f6e4d2;\n",
       "  --sklearn-color-unfitted-level-2: #ffe0b3;\n",
       "  --sklearn-color-unfitted-level-3: chocolate;\n",
       "  /* Definition of color scheme for fitted estimators */\n",
       "  --sklearn-color-fitted-level-0: #f0f8ff;\n",
       "  --sklearn-color-fitted-level-1: #d4ebff;\n",
       "  --sklearn-color-fitted-level-2: #b3dbfd;\n",
       "  --sklearn-color-fitted-level-3: cornflowerblue;\n",
       "\n",
       "  /* Specific color for light theme */\n",
       "  --sklearn-color-text-on-default-background: var(--sg-text-color, var(--theme-code-foreground, var(--jp-content-font-color1, black)));\n",
       "  --sklearn-color-background: var(--sg-background-color, var(--theme-background, var(--jp-layout-color0, white)));\n",
       "  --sklearn-color-border-box: var(--sg-text-color, var(--theme-code-foreground, var(--jp-content-font-color1, black)));\n",
       "  --sklearn-color-icon: #696969;\n",
       "\n",
       "  @media (prefers-color-scheme: dark) {\n",
       "    /* Redefinition of color scheme for dark theme */\n",
       "    --sklearn-color-text-on-default-background: var(--sg-text-color, var(--theme-code-foreground, var(--jp-content-font-color1, white)));\n",
       "    --sklearn-color-background: var(--sg-background-color, var(--theme-background, var(--jp-layout-color0, #111)));\n",
       "    --sklearn-color-border-box: var(--sg-text-color, var(--theme-code-foreground, var(--jp-content-font-color1, white)));\n",
       "    --sklearn-color-icon: #878787;\n",
       "  }\n",
       "}\n",
       "\n",
       "#sk-container-id-1 {\n",
       "  color: var(--sklearn-color-text);\n",
       "}\n",
       "\n",
       "#sk-container-id-1 pre {\n",
       "  padding: 0;\n",
       "}\n",
       "\n",
       "#sk-container-id-1 input.sk-hidden--visually {\n",
       "  border: 0;\n",
       "  clip: rect(1px 1px 1px 1px);\n",
       "  clip: rect(1px, 1px, 1px, 1px);\n",
       "  height: 1px;\n",
       "  margin: -1px;\n",
       "  overflow: hidden;\n",
       "  padding: 0;\n",
       "  position: absolute;\n",
       "  width: 1px;\n",
       "}\n",
       "\n",
       "#sk-container-id-1 div.sk-dashed-wrapped {\n",
       "  border: 1px dashed var(--sklearn-color-line);\n",
       "  margin: 0 0.4em 0.5em 0.4em;\n",
       "  box-sizing: border-box;\n",
       "  padding-bottom: 0.4em;\n",
       "  background-color: var(--sklearn-color-background);\n",
       "}\n",
       "\n",
       "#sk-container-id-1 div.sk-container {\n",
       "  /* jupyter's `normalize.less` sets `[hidden] { display: none; }`\n",
       "     but bootstrap.min.css set `[hidden] { display: none !important; }`\n",
       "     so we also need the `!important` here to be able to override the\n",
       "     default hidden behavior on the sphinx rendered scikit-learn.org.\n",
       "     See: https://github.com/scikit-learn/scikit-learn/issues/21755 */\n",
       "  display: inline-block !important;\n",
       "  position: relative;\n",
       "}\n",
       "\n",
       "#sk-container-id-1 div.sk-text-repr-fallback {\n",
       "  display: none;\n",
       "}\n",
       "\n",
       "div.sk-parallel-item,\n",
       "div.sk-serial,\n",
       "div.sk-item {\n",
       "  /* draw centered vertical line to link estimators */\n",
       "  background-image: linear-gradient(var(--sklearn-color-text-on-default-background), var(--sklearn-color-text-on-default-background));\n",
       "  background-size: 2px 100%;\n",
       "  background-repeat: no-repeat;\n",
       "  background-position: center center;\n",
       "}\n",
       "\n",
       "/* Parallel-specific style estimator block */\n",
       "\n",
       "#sk-container-id-1 div.sk-parallel-item::after {\n",
       "  content: \"\";\n",
       "  width: 100%;\n",
       "  border-bottom: 2px solid var(--sklearn-color-text-on-default-background);\n",
       "  flex-grow: 1;\n",
       "}\n",
       "\n",
       "#sk-container-id-1 div.sk-parallel {\n",
       "  display: flex;\n",
       "  align-items: stretch;\n",
       "  justify-content: center;\n",
       "  background-color: var(--sklearn-color-background);\n",
       "  position: relative;\n",
       "}\n",
       "\n",
       "#sk-container-id-1 div.sk-parallel-item {\n",
       "  display: flex;\n",
       "  flex-direction: column;\n",
       "}\n",
       "\n",
       "#sk-container-id-1 div.sk-parallel-item:first-child::after {\n",
       "  align-self: flex-end;\n",
       "  width: 50%;\n",
       "}\n",
       "\n",
       "#sk-container-id-1 div.sk-parallel-item:last-child::after {\n",
       "  align-self: flex-start;\n",
       "  width: 50%;\n",
       "}\n",
       "\n",
       "#sk-container-id-1 div.sk-parallel-item:only-child::after {\n",
       "  width: 0;\n",
       "}\n",
       "\n",
       "/* Serial-specific style estimator block */\n",
       "\n",
       "#sk-container-id-1 div.sk-serial {\n",
       "  display: flex;\n",
       "  flex-direction: column;\n",
       "  align-items: center;\n",
       "  background-color: var(--sklearn-color-background);\n",
       "  padding-right: 1em;\n",
       "  padding-left: 1em;\n",
       "}\n",
       "\n",
       "\n",
       "/* Toggleable style: style used for estimator/Pipeline/ColumnTransformer box that is\n",
       "clickable and can be expanded/collapsed.\n",
       "- Pipeline and ColumnTransformer use this feature and define the default style\n",
       "- Estimators will overwrite some part of the style using the `sk-estimator` class\n",
       "*/\n",
       "\n",
       "/* Pipeline and ColumnTransformer style (default) */\n",
       "\n",
       "#sk-container-id-1 div.sk-toggleable {\n",
       "  /* Default theme specific background. It is overwritten whether we have a\n",
       "  specific estimator or a Pipeline/ColumnTransformer */\n",
       "  background-color: var(--sklearn-color-background);\n",
       "}\n",
       "\n",
       "/* Toggleable label */\n",
       "#sk-container-id-1 label.sk-toggleable__label {\n",
       "  cursor: pointer;\n",
       "  display: block;\n",
       "  width: 100%;\n",
       "  margin-bottom: 0;\n",
       "  padding: 0.5em;\n",
       "  box-sizing: border-box;\n",
       "  text-align: center;\n",
       "}\n",
       "\n",
       "#sk-container-id-1 label.sk-toggleable__label-arrow:before {\n",
       "  /* Arrow on the left of the label */\n",
       "  content: \"▸\";\n",
       "  float: left;\n",
       "  margin-right: 0.25em;\n",
       "  color: var(--sklearn-color-icon);\n",
       "}\n",
       "\n",
       "#sk-container-id-1 label.sk-toggleable__label-arrow:hover:before {\n",
       "  color: var(--sklearn-color-text);\n",
       "}\n",
       "\n",
       "/* Toggleable content - dropdown */\n",
       "\n",
       "#sk-container-id-1 div.sk-toggleable__content {\n",
       "  max-height: 0;\n",
       "  max-width: 0;\n",
       "  overflow: hidden;\n",
       "  text-align: left;\n",
       "  /* unfitted */\n",
       "  background-color: var(--sklearn-color-unfitted-level-0);\n",
       "}\n",
       "\n",
       "#sk-container-id-1 div.sk-toggleable__content.fitted {\n",
       "  /* fitted */\n",
       "  background-color: var(--sklearn-color-fitted-level-0);\n",
       "}\n",
       "\n",
       "#sk-container-id-1 div.sk-toggleable__content pre {\n",
       "  margin: 0.2em;\n",
       "  border-radius: 0.25em;\n",
       "  color: var(--sklearn-color-text);\n",
       "  /* unfitted */\n",
       "  background-color: var(--sklearn-color-unfitted-level-0);\n",
       "}\n",
       "\n",
       "#sk-container-id-1 div.sk-toggleable__content.fitted pre {\n",
       "  /* unfitted */\n",
       "  background-color: var(--sklearn-color-fitted-level-0);\n",
       "}\n",
       "\n",
       "#sk-container-id-1 input.sk-toggleable__control:checked~div.sk-toggleable__content {\n",
       "  /* Expand drop-down */\n",
       "  max-height: 200px;\n",
       "  max-width: 100%;\n",
       "  overflow: auto;\n",
       "}\n",
       "\n",
       "#sk-container-id-1 input.sk-toggleable__control:checked~label.sk-toggleable__label-arrow:before {\n",
       "  content: \"▾\";\n",
       "}\n",
       "\n",
       "/* Pipeline/ColumnTransformer-specific style */\n",
       "\n",
       "#sk-container-id-1 div.sk-label input.sk-toggleable__control:checked~label.sk-toggleable__label {\n",
       "  color: var(--sklearn-color-text);\n",
       "  background-color: var(--sklearn-color-unfitted-level-2);\n",
       "}\n",
       "\n",
       "#sk-container-id-1 div.sk-label.fitted input.sk-toggleable__control:checked~label.sk-toggleable__label {\n",
       "  background-color: var(--sklearn-color-fitted-level-2);\n",
       "}\n",
       "\n",
       "/* Estimator-specific style */\n",
       "\n",
       "/* Colorize estimator box */\n",
       "#sk-container-id-1 div.sk-estimator input.sk-toggleable__control:checked~label.sk-toggleable__label {\n",
       "  /* unfitted */\n",
       "  background-color: var(--sklearn-color-unfitted-level-2);\n",
       "}\n",
       "\n",
       "#sk-container-id-1 div.sk-estimator.fitted input.sk-toggleable__control:checked~label.sk-toggleable__label {\n",
       "  /* fitted */\n",
       "  background-color: var(--sklearn-color-fitted-level-2);\n",
       "}\n",
       "\n",
       "#sk-container-id-1 div.sk-label label.sk-toggleable__label,\n",
       "#sk-container-id-1 div.sk-label label {\n",
       "  /* The background is the default theme color */\n",
       "  color: var(--sklearn-color-text-on-default-background);\n",
       "}\n",
       "\n",
       "/* On hover, darken the color of the background */\n",
       "#sk-container-id-1 div.sk-label:hover label.sk-toggleable__label {\n",
       "  color: var(--sklearn-color-text);\n",
       "  background-color: var(--sklearn-color-unfitted-level-2);\n",
       "}\n",
       "\n",
       "/* Label box, darken color on hover, fitted */\n",
       "#sk-container-id-1 div.sk-label.fitted:hover label.sk-toggleable__label.fitted {\n",
       "  color: var(--sklearn-color-text);\n",
       "  background-color: var(--sklearn-color-fitted-level-2);\n",
       "}\n",
       "\n",
       "/* Estimator label */\n",
       "\n",
       "#sk-container-id-1 div.sk-label label {\n",
       "  font-family: monospace;\n",
       "  font-weight: bold;\n",
       "  display: inline-block;\n",
       "  line-height: 1.2em;\n",
       "}\n",
       "\n",
       "#sk-container-id-1 div.sk-label-container {\n",
       "  text-align: center;\n",
       "}\n",
       "\n",
       "/* Estimator-specific */\n",
       "#sk-container-id-1 div.sk-estimator {\n",
       "  font-family: monospace;\n",
       "  border: 1px dotted var(--sklearn-color-border-box);\n",
       "  border-radius: 0.25em;\n",
       "  box-sizing: border-box;\n",
       "  margin-bottom: 0.5em;\n",
       "  /* unfitted */\n",
       "  background-color: var(--sklearn-color-unfitted-level-0);\n",
       "}\n",
       "\n",
       "#sk-container-id-1 div.sk-estimator.fitted {\n",
       "  /* fitted */\n",
       "  background-color: var(--sklearn-color-fitted-level-0);\n",
       "}\n",
       "\n",
       "/* on hover */\n",
       "#sk-container-id-1 div.sk-estimator:hover {\n",
       "  /* unfitted */\n",
       "  background-color: var(--sklearn-color-unfitted-level-2);\n",
       "}\n",
       "\n",
       "#sk-container-id-1 div.sk-estimator.fitted:hover {\n",
       "  /* fitted */\n",
       "  background-color: var(--sklearn-color-fitted-level-2);\n",
       "}\n",
       "\n",
       "/* Specification for estimator info (e.g. \"i\" and \"?\") */\n",
       "\n",
       "/* Common style for \"i\" and \"?\" */\n",
       "\n",
       ".sk-estimator-doc-link,\n",
       "a:link.sk-estimator-doc-link,\n",
       "a:visited.sk-estimator-doc-link {\n",
       "  float: right;\n",
       "  font-size: smaller;\n",
       "  line-height: 1em;\n",
       "  font-family: monospace;\n",
       "  background-color: var(--sklearn-color-background);\n",
       "  border-radius: 1em;\n",
       "  height: 1em;\n",
       "  width: 1em;\n",
       "  text-decoration: none !important;\n",
       "  margin-left: 1ex;\n",
       "  /* unfitted */\n",
       "  border: var(--sklearn-color-unfitted-level-1) 1pt solid;\n",
       "  color: var(--sklearn-color-unfitted-level-1);\n",
       "}\n",
       "\n",
       ".sk-estimator-doc-link.fitted,\n",
       "a:link.sk-estimator-doc-link.fitted,\n",
       "a:visited.sk-estimator-doc-link.fitted {\n",
       "  /* fitted */\n",
       "  border: var(--sklearn-color-fitted-level-1) 1pt solid;\n",
       "  color: var(--sklearn-color-fitted-level-1);\n",
       "}\n",
       "\n",
       "/* On hover */\n",
       "div.sk-estimator:hover .sk-estimator-doc-link:hover,\n",
       ".sk-estimator-doc-link:hover,\n",
       "div.sk-label-container:hover .sk-estimator-doc-link:hover,\n",
       ".sk-estimator-doc-link:hover {\n",
       "  /* unfitted */\n",
       "  background-color: var(--sklearn-color-unfitted-level-3);\n",
       "  color: var(--sklearn-color-background);\n",
       "  text-decoration: none;\n",
       "}\n",
       "\n",
       "div.sk-estimator.fitted:hover .sk-estimator-doc-link.fitted:hover,\n",
       ".sk-estimator-doc-link.fitted:hover,\n",
       "div.sk-label-container:hover .sk-estimator-doc-link.fitted:hover,\n",
       ".sk-estimator-doc-link.fitted:hover {\n",
       "  /* fitted */\n",
       "  background-color: var(--sklearn-color-fitted-level-3);\n",
       "  color: var(--sklearn-color-background);\n",
       "  text-decoration: none;\n",
       "}\n",
       "\n",
       "/* Span, style for the box shown on hovering the info icon */\n",
       ".sk-estimator-doc-link span {\n",
       "  display: none;\n",
       "  z-index: 9999;\n",
       "  position: relative;\n",
       "  font-weight: normal;\n",
       "  right: .2ex;\n",
       "  padding: .5ex;\n",
       "  margin: .5ex;\n",
       "  width: min-content;\n",
       "  min-width: 20ex;\n",
       "  max-width: 50ex;\n",
       "  color: var(--sklearn-color-text);\n",
       "  box-shadow: 2pt 2pt 4pt #999;\n",
       "  /* unfitted */\n",
       "  background: var(--sklearn-color-unfitted-level-0);\n",
       "  border: .5pt solid var(--sklearn-color-unfitted-level-3);\n",
       "}\n",
       "\n",
       ".sk-estimator-doc-link.fitted span {\n",
       "  /* fitted */\n",
       "  background: var(--sklearn-color-fitted-level-0);\n",
       "  border: var(--sklearn-color-fitted-level-3);\n",
       "}\n",
       "\n",
       ".sk-estimator-doc-link:hover span {\n",
       "  display: block;\n",
       "}\n",
       "\n",
       "/* \"?\"-specific style due to the `<a>` HTML tag */\n",
       "\n",
       "#sk-container-id-1 a.estimator_doc_link {\n",
       "  float: right;\n",
       "  font-size: 1rem;\n",
       "  line-height: 1em;\n",
       "  font-family: monospace;\n",
       "  background-color: var(--sklearn-color-background);\n",
       "  border-radius: 1rem;\n",
       "  height: 1rem;\n",
       "  width: 1rem;\n",
       "  text-decoration: none;\n",
       "  /* unfitted */\n",
       "  color: var(--sklearn-color-unfitted-level-1);\n",
       "  border: var(--sklearn-color-unfitted-level-1) 1pt solid;\n",
       "}\n",
       "\n",
       "#sk-container-id-1 a.estimator_doc_link.fitted {\n",
       "  /* fitted */\n",
       "  border: var(--sklearn-color-fitted-level-1) 1pt solid;\n",
       "  color: var(--sklearn-color-fitted-level-1);\n",
       "}\n",
       "\n",
       "/* On hover */\n",
       "#sk-container-id-1 a.estimator_doc_link:hover {\n",
       "  /* unfitted */\n",
       "  background-color: var(--sklearn-color-unfitted-level-3);\n",
       "  color: var(--sklearn-color-background);\n",
       "  text-decoration: none;\n",
       "}\n",
       "\n",
       "#sk-container-id-1 a.estimator_doc_link.fitted:hover {\n",
       "  /* fitted */\n",
       "  background-color: var(--sklearn-color-fitted-level-3);\n",
       "}\n",
       "</style><div id=\"sk-container-id-1\" class=\"sk-top-container\"><div class=\"sk-text-repr-fallback\"><pre>SVC()</pre><b>In a Jupyter environment, please rerun this cell to show the HTML representation or trust the notebook. <br />On GitHub, the HTML representation is unable to render, please try loading this page with nbviewer.org.</b></div><div class=\"sk-container\" hidden><div class=\"sk-item\"><div class=\"sk-estimator fitted sk-toggleable\"><input class=\"sk-toggleable__control sk-hidden--visually\" id=\"sk-estimator-id-1\" type=\"checkbox\" checked><label for=\"sk-estimator-id-1\" class=\"sk-toggleable__label fitted sk-toggleable__label-arrow fitted\">&nbsp;&nbsp;SVC<a class=\"sk-estimator-doc-link fitted\" rel=\"noreferrer\" target=\"_blank\" href=\"https://scikit-learn.org/1.4/modules/generated/sklearn.svm.SVC.html\">?<span>Documentation for SVC</span></a><span class=\"sk-estimator-doc-link fitted\">i<span>Fitted</span></span></label><div class=\"sk-toggleable__content fitted\"><pre>SVC()</pre></div> </div></div></div></div>"
      ],
      "text/plain": [
       "SVC()"
      ]
     },
     "execution_count": 192,
     "metadata": {},
     "output_type": "execute_result"
    }
   ],
   "source": [
    "model.fit(X_train, y_new_train)"
   ]
  },
  {
   "cell_type": "code",
   "execution_count": 194,
   "id": "fcc0a260-045f-46a4-9bba-b0890ac9e7d5",
   "metadata": {},
   "outputs": [],
   "source": [
    "y_pred = model.predict(X_test)"
   ]
  },
  {
   "cell_type": "code",
   "execution_count": 196,
   "id": "95e19a48-f05b-4bfe-9301-84d735db8f1f",
   "metadata": {},
   "outputs": [
    {
     "data": {
      "text/plain": [
       "0.9229050279329609"
      ]
     },
     "execution_count": 196,
     "metadata": {},
     "output_type": "execute_result"
    }
   ],
   "source": [
    "model.score(X_test, y_new_test)"
   ]
  },
  {
   "cell_type": "code",
   "execution_count": 200,
   "id": "7be520d2-1f4c-41a7-ad67-d48c77ad0740",
   "metadata": {},
   "outputs": [
    {
     "name": "stdout",
     "output_type": "stream",
     "text": [
      "[[4956  414]\n",
      " [   0    0]]\n",
      "              precision    recall  f1-score   support\n",
      "\n",
      "         0.0       1.00      0.92      0.96      5370\n",
      "         1.0       0.00      0.00      0.00         0\n",
      "\n",
      "    accuracy                           0.92      5370\n",
      "   macro avg       0.50      0.46      0.48      5370\n",
      "weighted avg       1.00      0.92      0.96      5370\n",
      "\n"
     ]
    }
   ],
   "source": [
    "# evaluate the model\n",
    "from sklearn.metrics import classification_report, confusion_matrix\n",
    "print(confusion_matrix(y_new_test, y_pred))\n",
    "print(classification_report(y_new_test, y_pred))"
   ]
  },
  {
   "cell_type": "code",
   "execution_count": 202,
   "id": "9adc93b8-1e94-4d85-83f7-9f8378d22076",
   "metadata": {},
   "outputs": [
    {
     "data": {
      "image/png": "[encoded data removed]",
      "text/plain": [
       "<Figure size 1200x800 with 2 Axes>"
      ]
     },
     "metadata": {},
     "output_type": "display_data"
    }
   ],
   "source": [
    "# draw the confusion matrix using heatmap\n",
    "plt.figure(figsize=(12, 8))\n",
    "sns.heatmap(confusion_matrix(y_new_test, y_pred), annot=True)\n",
    "# label the plot\n",
    "plt.xlabel('Predicted')\n",
    "plt.ylabel('Actual')\n",
    "plt.show()"
   ]
  },
  {
   "cell_type": "markdown",
   "id": "a20c372d-9be7-40e5-969c-3e4b41ad6b16",
   "metadata": {},
   "source": [
    "# Fine Tuning of Model"
   ]
  },
  {
   "cell_type": "markdown",
   "id": "90b47ad5-ac45-4810-a1b3-b685867416a1",
   "metadata": {},
   "source": [
    "#### 1 - Value of C"
   ]
  },
  {
   "cell_type": "code",
   "execution_count": 205,
   "id": "aa6812d2-f5ae-4bb1-84fd-959b722acb1b",
   "metadata": {},
   "outputs": [
    {
     "data": {
      "text/plain": [
       "0.9208566108007449"
      ]
     },
     "execution_count": 205,
     "metadata": {},
     "output_type": "execute_result"
    }
   ],
   "source": [
    "model_C = SVC(C=5)\n",
    "model_C.fit(X_train, y_new_train)\n",
    "model_C.score(X_test, y_new_test)"
   ]
  },
  {
   "cell_type": "code",
   "execution_count": 219,
   "id": "78e39640-035c-4921-8a61-4d77a3614417",
   "metadata": {},
   "outputs": [
    {
     "data": {
      "text/plain": [
       "0.9229050279329609"
      ]
     },
     "execution_count": 219,
     "metadata": {},
     "output_type": "execute_result"
    }
   ],
   "source": [
    "model_C = SVC(C=1)\n",
    "model_C.fit(X_train, y_new_train)\n",
    "model_C.score(X_test, y_new_test)"
   ]
  },
  {
   "cell_type": "code",
   "execution_count": 221,
   "id": "7ecb6ef4-0523-48a3-8166-01135a5cd7de",
   "metadata": {},
   "outputs": [
    {
     "data": {
      "text/plain": [
       "0.9182495344506517"
      ]
     },
     "execution_count": 221,
     "metadata": {},
     "output_type": "execute_result"
    }
   ],
   "source": [
    "model_C = SVC(C=20)\n",
    "model_C.fit(X_train, y_new_train)\n",
    "model_C.score(X_test, y_new_test)"
   ]
  },
  {
   "cell_type": "markdown",
   "id": "23bdd1d2-dd78-4856-81e4-349d37a5c887",
   "metadata": {},
   "source": [
    "#### 2- Value of Gamma"
   ]
  },
  {
   "cell_type": "code",
   "execution_count": 224,
   "id": "7516d881-7ecb-4757-8b25-8bd0e91029e6",
   "metadata": {},
   "outputs": [
    {
     "data": {
      "text/plain": [
       "0.9333333333333333"
      ]
     },
     "execution_count": 224,
     "metadata": {},
     "output_type": "execute_result"
    }
   ],
   "source": [
    "model_g = SVC(gamma=3)\n",
    "model_g.fit(X_train, y_new_train)\n",
    "model_g.score(X_test, y_new_test)"
   ]
  },
  {
   "cell_type": "code",
   "execution_count": 226,
   "id": "fdfc162e-d0d5-41a7-ad1f-6951ceb80253",
   "metadata": {},
   "outputs": [
    {
     "data": {
      "text/plain": [
       "0.9811918063314712"
      ]
     },
     "execution_count": 226,
     "metadata": {},
     "output_type": "execute_result"
    }
   ],
   "source": [
    "model_g = SVC(gamma=10)\n",
    "model_g.fit(X_train, y_new_train)\n",
    "model_g.score(X_test, y_new_test)"
   ]
  },
  {
   "cell_type": "code",
   "execution_count": 228,
   "id": "13cc49d9-f051-40e2-99e6-e063d851cceb",
   "metadata": {},
   "outputs": [
    {
     "data": {
      "text/plain": [
       "0.9960893854748604"
      ]
     },
     "execution_count": 228,
     "metadata": {},
     "output_type": "execute_result"
    }
   ],
   "source": [
    "model_g = SVC(gamma=15)\n",
    "model_g.fit(X_train, y_new_train)\n",
    "model_g.score(X_test, y_new_test)"
   ]
  },
  {
   "cell_type": "code",
   "execution_count": 230,
   "id": "2c7a6654-50d4-4575-bc5e-9097440593fc",
   "metadata": {},
   "outputs": [
    {
     "data": {
      "text/plain": [
       "0.9990689013035382"
      ]
     },
     "execution_count": 230,
     "metadata": {},
     "output_type": "execute_result"
    }
   ],
   "source": [
    "model_g = SVC(gamma=20)  # Best Value of Gamma\n",
    "model_g.fit(X_train, y_new_train)\n",
    "model_g.score(X_test, y_new_test)"
   ]
  },
  {
   "cell_type": "code",
   "execution_count": 232,
   "id": "3eeca79a-0546-47fd-893b-125ec99f9d51",
   "metadata": {},
   "outputs": [
    {
     "data": {
      "text/plain": [
       "0.9998137802607077"
      ]
     },
     "execution_count": 232,
     "metadata": {},
     "output_type": "execute_result"
    }
   ],
   "source": [
    "model_g = SVC(gamma=25)\n",
    "model_g.fit(X_train, y_new_train)\n",
    "model_g.score(X_test, y_new_test)"
   ]
  },
  {
   "cell_type": "markdown",
   "id": "058065c6-5113-4aa0-86a9-0a1671a6725d",
   "metadata": {},
   "source": [
    "#### 3- Value of Kernal"
   ]
  },
  {
   "cell_type": "code",
   "execution_count": 235,
   "id": "c14a4f37-90d8-4246-bc6b-04dc5ab2246d",
   "metadata": {},
   "outputs": [
    {
     "data": {
      "text/plain": [
       "0.9258845437616388"
      ]
     },
     "execution_count": 235,
     "metadata": {},
     "output_type": "execute_result"
    }
   ],
   "source": [
    "model_linear_kernal = SVC(kernel='linear')\n",
    "model_linear_kernal.fit(X_train, y_new_train)\n",
    "model_linear_kernal.score(X_test, y_new_test)"
   ]
  },
  {
   "cell_type": "code",
   "execution_count": 239,
   "id": "fa0e2291-40a7-4ade-9148-4e1a07675f51",
   "metadata": {},
   "outputs": [
    {
     "data": {
      "text/plain": [
       "0.9229050279329609"
      ]
     },
     "execution_count": 239,
     "metadata": {},
     "output_type": "execute_result"
    }
   ],
   "source": [
    "model_linear_kernal = SVC(kernel='rbf')\n",
    "model_linear_kernal.fit(X_train, y_new_train)\n",
    "model_linear_kernal.score(X_test, y_new_test)\n"
   ]
  },
  {
   "cell_type": "markdown",
   "id": "dd406902-6691-486a-b264-20041942d12c",
   "metadata": {},
   "source": [
    "## Best Model Values\n",
    "#### C=1, gamma = 20, Kernal = linear\n",
    "#### C=1, gamma = 20, Kernal = rbf"
   ]
  },
  {
   "cell_type": "code",
   "execution_count": 244,
   "id": "aad3d554-6371-48af-b366-ba1212b610c3",
   "metadata": {},
   "outputs": [
    {
     "data": {
      "text/plain": [
       "0.9990689013035382"
      ]
     },
     "execution_count": 244,
     "metadata": {},
     "output_type": "execute_result"
    }
   ],
   "source": [
    "model_linear_kernal = SVC(kernel='rbf', C=1, gamma=20)\n",
    "model_linear_kernal.fit(X_train, y_new_train)\n",
    "model_linear_kernal.score(X_test, y_new_test)"
   ]
  },
  {
   "cell_type": "code",
   "execution_count": 245,
   "id": "f453c017-7e39-4c6f-86e8-929fca06a619",
   "metadata": {},
   "outputs": [
    {
     "data": {
      "text/plain": [
       "0.9258845437616388"
      ]
     },
     "execution_count": 245,
     "metadata": {},
     "output_type": "execute_result"
    }
   ],
   "source": [
    "model_linear_kernal = SVC(kernel='linear', C=1, gamma=20)\n",
    "model_linear_kernal.fit(X_train, y_new_train)\n",
    "model_linear_kernal.score(X_test, y_new_test)"
   ]
  },
  {
   "cell_type": "code",
   "execution_count": null,
   "id": "dac978e1-acbd-4698-8bd1-7124efb571df",
   "metadata": {},
   "outputs": [],
   "source": []
  }
 ],
 "metadata": {
  "kernelspec": {
   "display_name": "Python 3 (ipykernel)",
   "language": "python",
   "name": "python3"
  },
  "language_info": {
   "codemirror_mode": {
    "name": "ipython",
    "version": 3
   },
   "file_extension": ".py",
   "mimetype": "text/x-python",
   "name": "python",
   "nbconvert_exporter": "python",
   "pygments_lexer": "ipython3",
   "version": "3.12.4"
  }
 },
 "nbformat": 4,
 "nbformat_minor": 5
}
